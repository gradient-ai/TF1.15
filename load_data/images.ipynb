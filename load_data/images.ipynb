{
  "cells": [
    {
      "cell_type": "markdown",
      "source": [
        "##### Copyright 2019 The TensorFlow Authors."
      ],
      "metadata": {
        "id": "mt9dL5dIir8X"
      }
    },
    {
      "cell_type": "code",
      "execution_count": null,
      "source": [
        "#@title Licensed under the Apache License, Version 2.0 (the \"License\");\n",
        "# you may not use this file except in compliance with the License.\n",
        "# You may obtain a copy of the License at\n",
        "#\n",
        "# https://www.apache.org/licenses/LICENSE-2.0\n",
        "#\n",
        "# Unless required by applicable law or agreed to in writing, software\n",
        "# distributed under the License is distributed on an \"AS IS\" BASIS,\n",
        "# WITHOUT WARRANTIES OR CONDITIONS OF ANY KIND, either express or implied.\n",
        "# See the License for the specific language governing permissions and\n",
        "# limitations under the License.\n"
      ],
      "outputs": [],
      "metadata": {
        "cellView": "form",
        "id": "ufPx7EiCiqgR"
      }
    },
    {
      "cell_type": "markdown",
      "source": [
        "# Load images with tf.data"
      ],
      "metadata": {
        "id": "ucMoYase6URl"
      }
    },
    {
      "cell_type": "markdown",
      "source": [
        "<table class=\"tfo-notebook-buttons\" align=\"left\">\n",
        "  <td>\n",
        "    <a target=\"_blank\" href=\"https://github.com/tensorflow/docs/blob/master/site/en/r1/tutorials/load_data/images.ipynb\"><img src=\"https://www.tensorflow.org/images/GitHub-Mark-32px.png\" />View source on GitHub</a>\n",
        "  </td>\n",
        "</table>"
      ],
      "metadata": {
        "id": "_Wwu5SXZmEkB"
      }
    },
    {
      "cell_type": "markdown",
      "source": [
        "> Note: This is an archived TF1 notebook. These are configured\n",
        "to run in TF2's \n",
        "[compatbility mode](https://www.tensorflow.org/guide/migrate)\n",
        "but will run in TF1 as well. "
      ],
      "metadata": {
        "id": "_Wwu5SXZmEkB"
      }
    },
    {
      "cell_type": "markdown",
      "source": [
        "This tutorial provides a simple example of how to load an image dataset using `tf.data`.\n",
        "\n",
        "The dataset used in this example is distributed as directories of images, with one class of image per directory."
      ],
      "metadata": {
        "id": "Oxw4WahM7DU9"
      }
    },
    {
      "cell_type": "markdown",
      "source": [
        "## Setup"
      ],
      "metadata": {
        "id": "hoQQiZDB6URn"
      }
    },
    {
      "cell_type": "code",
      "execution_count": null,
      "source": [
        "import tensorflow.compat.v1 as tf\n",
        "\n",
        "tf.__version__"
      ],
      "outputs": [],
      "metadata": {
        "id": "DHz3JONNEHlj"
      }
    },
    {
      "cell_type": "code",
      "execution_count": null,
      "source": [
        "AUTOTUNE = tf.data.AUTOTUNE"
      ],
      "outputs": [],
      "metadata": {
        "id": "KT6CcaqgQewg"
      }
    },
    {
      "cell_type": "markdown",
      "source": [
        "## Download and inspect the dataset"
      ],
      "metadata": {
        "id": "rxndJHNC8YPM"
      }
    },
    {
      "cell_type": "markdown",
      "source": [
        "### Retrieve the images\n",
        "\n",
        "Before you start any training, you'll need a set of images to teach the network about the new classes you want to recognize. You've created an archive of creative-commons licensed flower photos to use initially."
      ],
      "metadata": {
        "id": "wO0InzL66URu"
      }
    },
    {
      "cell_type": "code",
      "execution_count": null,
      "source": [
        "import pathlib\n",
        "data_root_orig = tf.keras.utils.get_file('flower_photos',\n",
        "                                         'https://storage.googleapis.com/download.tensorflow.org/example_images/flower_photos.tgz',\n",
        "                                         untar=True)\n",
        "data_root = pathlib.Path(data_root_orig)\n",
        "print(data_root)"
      ],
      "outputs": [],
      "metadata": {
        "id": "rN-Pc6Zd6awg"
      }
    },
    {
      "cell_type": "markdown",
      "source": [
        "After downloading 218MB, you should now have a copy of the flower photos available:"
      ],
      "metadata": {
        "id": "rFkFK74oO--g"
      }
    },
    {
      "cell_type": "code",
      "execution_count": null,
      "source": [
        "for item in data_root.iterdir():\n",
        "  print(item)"
      ],
      "outputs": [],
      "metadata": {
        "id": "7onR_lWE7Njj"
      }
    },
    {
      "cell_type": "code",
      "execution_count": null,
      "source": [
        "import random\n",
        "all_image_paths = list(data_root.glob('*/*'))\n",
        "all_image_paths = [str(path) for path in all_image_paths]\n",
        "random.shuffle(all_image_paths)\n",
        "\n",
        "image_count = len(all_image_paths)\n",
        "image_count"
      ],
      "outputs": [],
      "metadata": {
        "id": "4yYX3ZRqGOuq"
      }
    },
    {
      "cell_type": "code",
      "execution_count": null,
      "source": [
        "all_image_paths[:10]"
      ],
      "outputs": [],
      "metadata": {
        "id": "t_BbYnLjbltQ"
      }
    },
    {
      "cell_type": "markdown",
      "source": [
        "### Inspect the images\n",
        "Now let's have a quick look at a couple of the images, so you know what you're dealing with:"
      ],
      "metadata": {
        "id": "vkM-IpB-6URx"
      }
    },
    {
      "cell_type": "code",
      "execution_count": null,
      "source": [
        "import os\n",
        "attributions = (data_root/\"LICENSE.txt\").open(encoding='utf-8').readlines()[4:]\n",
        "attributions = [line.split(' CC-BY') for line in attributions]\n",
        "attributions = dict(attributions)"
      ],
      "outputs": [],
      "metadata": {
        "id": "wNGateQJ6UR1"
      }
    },
    {
      "cell_type": "code",
      "execution_count": null,
      "source": [
        "import IPython.display as display\n",
        "\n",
        "def caption_image(image_path):\n",
        "    image_rel = pathlib.Path(image_path).relative_to(data_root)\n",
        "    return \"Image (CC BY 2.0) \" + ' - '.join(attributions[str(image_rel)].split(' - ')[:-1])\n"
      ],
      "outputs": [],
      "metadata": {
        "id": "jgowG2xu88Io"
      }
    },
    {
      "cell_type": "code",
      "execution_count": null,
      "source": [
        "for n in range(3):\n",
        "  image_path = random.choice(all_image_paths)\n",
        "  display.display(display.Image(image_path))\n",
        "  print(caption_image(image_path))\n",
        "  print()"
      ],
      "outputs": [],
      "metadata": {
        "id": "YIjLi-nX0txI"
      }
    },
    {
      "cell_type": "markdown",
      "source": [
        "### Determine the label for each image"
      ],
      "metadata": {
        "id": "OaNOr-co3WKk"
      }
    },
    {
      "cell_type": "markdown",
      "source": [
        "List the available labels:"
      ],
      "metadata": {
        "id": "-weOQpDw2Jnu"
      }
    },
    {
      "cell_type": "code",
      "execution_count": null,
      "source": [
        "label_names = sorted(item.name for item in data_root.glob('*/') if item.is_dir())\n",
        "label_names"
      ],
      "outputs": [],
      "metadata": {
        "id": "ssUZ7Qh96UR3"
      }
    },
    {
      "cell_type": "markdown",
      "source": [
        "Assign an index to each label:"
      ],
      "metadata": {
        "id": "9l_JEBql2OzS"
      }
    },
    {
      "cell_type": "code",
      "execution_count": null,
      "source": [
        "label_to_index = dict((name, index) for index,name in enumerate(label_names))\n",
        "label_to_index"
      ],
      "outputs": [],
      "metadata": {
        "id": "Y8pCV46CzPlp"
      }
    },
    {
      "cell_type": "markdown",
      "source": [
        "Create a list of every file, and its label index"
      ],
      "metadata": {
        "id": "VkXsHg162T9F"
      }
    },
    {
      "cell_type": "code",
      "execution_count": null,
      "source": [
        "all_image_labels = [label_to_index[pathlib.Path(path).parent.name]\n",
        "                    for path in all_image_paths]\n",
        "\n",
        "print(\"First 10 labels indices: \", all_image_labels[:10])"
      ],
      "outputs": [],
      "metadata": {
        "id": "q62i1RBP4Q02"
      }
    },
    {
      "cell_type": "markdown",
      "source": [
        "### Load and format the images"
      ],
      "metadata": {
        "id": "i5L09icm9iph"
      }
    },
    {
      "cell_type": "markdown",
      "source": [
        "TensorFlow includes all the tools you need to load and process images:"
      ],
      "metadata": {
        "id": "SbqqRUS79ooq"
      }
    },
    {
      "cell_type": "code",
      "execution_count": null,
      "source": [
        "img_path = all_image_paths[0]\n",
        "img_path"
      ],
      "outputs": [],
      "metadata": {
        "id": "jQZdySHvksOu"
      }
    },
    {
      "cell_type": "markdown",
      "source": [
        "here is the raw data:"
      ],
      "metadata": {
        "id": "2t2h2XCcmK1Y"
      }
    },
    {
      "cell_type": "code",
      "execution_count": null,
      "source": [
        "img_raw = tf.io.read_file(img_path)\n",
        "print(repr(img_raw)[:100]+\"...\")"
      ],
      "outputs": [],
      "metadata": {
        "id": "LJfkyC_Qkt7A"
      }
    },
    {
      "cell_type": "markdown",
      "source": [
        "Decode it into an image tensor:"
      ],
      "metadata": {
        "id": "opN8AVc8mSbz"
      }
    },
    {
      "cell_type": "code",
      "execution_count": null,
      "source": [
        "img_tensor = tf.image.decode_image(img_raw)\n",
        "\n",
        "print(img_tensor.shape)\n",
        "print(img_tensor.dtype)"
      ],
      "outputs": [],
      "metadata": {
        "id": "Tm0tdrlfk0Bb"
      }
    },
    {
      "cell_type": "markdown",
      "source": [
        "Resize it for your model:"
      ],
      "metadata": {
        "id": "3k-Of2Tfmbeq"
      }
    },
    {
      "cell_type": "code",
      "execution_count": null,
      "source": [
        "img_final = tf.image.resize(img_tensor, [192, 192])\n",
        "img_final = img_final/255.0\n",
        "print(img_final.shape)\n",
        "print(img_final.numpy().min())\n",
        "print(img_final.numpy().max())\n"
      ],
      "outputs": [],
      "metadata": {
        "id": "XFpz-3_vlJgp"
      }
    },
    {
      "cell_type": "markdown",
      "source": [
        "Wrap up these up in simple functions for later."
      ],
      "metadata": {
        "id": "aCsAa4Psl4AQ"
      }
    },
    {
      "cell_type": "code",
      "execution_count": null,
      "source": [
        "def preprocess_image(image):\n",
        "  image = tf.image.decode_jpeg(image, channels=3)\n",
        "  image = tf.image.resize(image, [192, 192])\n",
        "  image /= 255.0  # normalize to [0,1] range\n",
        "\n",
        "  return image"
      ],
      "outputs": [],
      "metadata": {
        "id": "HmUiZJNU73vA"
      }
    },
    {
      "cell_type": "code",
      "execution_count": null,
      "source": [
        "def load_and_preprocess_image(path):\n",
        "  image = tf.read_file(path)\n",
        "  return preprocess_image(image)"
      ],
      "outputs": [],
      "metadata": {
        "id": "einETrJnO-em"
      }
    },
    {
      "cell_type": "code",
      "execution_count": null,
      "source": [
        "import matplotlib.pyplot as plt\n",
        "\n",
        "img_path = all_image_paths[0]\n",
        "label = all_image_labels[0]\n",
        "\n",
        "plt.imshow(load_and_preprocess_image(img_path))\n",
        "plt.grid(False)\n",
        "plt.xlabel(caption_image(img_path).encode('utf-8'))\n",
        "plt.title(label_names[label].title())\n",
        "print()"
      ],
      "outputs": [],
      "metadata": {
        "id": "3brWQcdtz78y"
      }
    },
    {
      "cell_type": "markdown",
      "source": [
        "## Build a `tf.data.Dataset`"
      ],
      "metadata": {
        "id": "n2TCr1TQ8pA3"
      }
    },
    {
      "cell_type": "markdown",
      "source": [
        "### A dataset of images"
      ],
      "metadata": {
        "id": "6H9Z5Mq63nSH"
      }
    },
    {
      "cell_type": "markdown",
      "source": [
        "The easiest way to build a `tf.data.Dataset` is using the `from_tensor_slices` method.\n",
        "\n",
        "Slicing the array of strings results in a dataset of strings:"
      ],
      "metadata": {
        "id": "GN-s04s-6Luq"
      }
    },
    {
      "cell_type": "code",
      "execution_count": null,
      "source": [
        "path_ds = tf.data.Dataset.from_tensor_slices(all_image_paths)"
      ],
      "outputs": [],
      "metadata": {
        "id": "6oRPG3Jz3ie_"
      }
    },
    {
      "cell_type": "markdown",
      "source": [
        "The `output_shapes` and `output_types` fields describe the content of each item in the dataset. In this case it is a set of scalar binary-strings"
      ],
      "metadata": {
        "id": "uML4JeMmIAvO"
      }
    },
    {
      "cell_type": "code",
      "execution_count": null,
      "source": [
        "print('shape: ', repr(path_ds.output_shapes))\n",
        "print('type: ', path_ds.output_types)\n",
        "print()\n",
        "print(path_ds)"
      ],
      "outputs": [],
      "metadata": {
        "id": "mIsNflFbIK34"
      }
    },
    {
      "cell_type": "markdown",
      "source": [
        "Now create a new dataset that loads and formats images on the fly by mapping `preprocess_image` over the dataset of paths."
      ],
      "metadata": {
        "id": "ZjyGcM8OwBJ2"
      }
    },
    {
      "cell_type": "code",
      "execution_count": null,
      "source": [
        "image_ds = path_ds.map(load_and_preprocess_image, num_parallel_calls=AUTOTUNE)"
      ],
      "outputs": [],
      "metadata": {
        "id": "D1iba6f4khu-"
      }
    },
    {
      "cell_type": "code",
      "execution_count": null,
      "source": [
        "import matplotlib.pyplot as plt\n",
        "\n",
        "plt.figure(figsize=(8,8))\n",
        "for n,image in enumerate(image_ds.take(4)):\n",
        "  plt.subplot(2,2,n+1)\n",
        "  plt.imshow(image)\n",
        "  plt.grid(False)\n",
        "  plt.xticks([])\n",
        "  plt.yticks([])\n",
        "  plt.xlabel(caption_image(all_image_paths[n]))\n",
        "plt.show()"
      ],
      "outputs": [],
      "metadata": {
        "id": "JLUPs2a-lEEJ"
      }
    },
    {
      "cell_type": "markdown",
      "source": [
        "### A dataset of `(image, label)` pairs"
      ],
      "metadata": {
        "id": "P6FNqPbxkbdx"
      }
    },
    {
      "cell_type": "markdown",
      "source": [
        "Using the same `from_tensor_slices` method you can build a dataset of labels"
      ],
      "metadata": {
        "id": "YgvrWLKG67-x"
      }
    },
    {
      "cell_type": "code",
      "execution_count": null,
      "source": [
        "label_ds = tf.data.Dataset.from_tensor_slices(tf.cast(all_image_labels, tf.int64))"
      ],
      "outputs": [],
      "metadata": {
        "id": "AgBsAiV06udj"
      }
    },
    {
      "cell_type": "code",
      "execution_count": null,
      "source": [
        "for label in label_ds.take(10):\n",
        "  print(label_names[label.numpy()])"
      ],
      "outputs": [],
      "metadata": {
        "id": "HEsk5nN0vyeX"
      }
    },
    {
      "cell_type": "markdown",
      "source": [
        "Since the datasets are in the same order you can just zip them together to get a dataset of `(image, label)` pairs."
      ],
      "metadata": {
        "id": "jHjgrEeTxyYz"
      }
    },
    {
      "cell_type": "code",
      "execution_count": null,
      "source": [
        "image_label_ds = tf.data.Dataset.zip((image_ds, label_ds))"
      ],
      "outputs": [],
      "metadata": {
        "id": "AOEWNMdQwsbN"
      }
    },
    {
      "cell_type": "markdown",
      "source": [
        "The new dataset's `shapes` and `types` are tuples of shapes and types as well, describing each field:"
      ],
      "metadata": {
        "id": "yA2F09SJLMuM"
      }
    },
    {
      "cell_type": "code",
      "execution_count": null,
      "source": [
        "print(image_label_ds)"
      ],
      "outputs": [],
      "metadata": {
        "id": "DuVYNinrLL-N"
      }
    },
    {
      "cell_type": "markdown",
      "source": [
        "Note: When you have arrays like `all_image_labels` and `all_image_paths`, an alternative to using `tf.data.dataset.Dataset.zip` is slicing the pair of arrays."
      ],
      "metadata": {
        "id": "2WYMikoPWOQX"
      }
    },
    {
      "cell_type": "code",
      "execution_count": null,
      "source": [
        "ds = tf.data.Dataset.from_tensor_slices((all_image_paths, all_image_labels))\n",
        "\n",
        "# The tuples are unpacked into the positional arguments of the mapped function\n",
        "def load_and_preprocess_from_path_label(path, label):\n",
        "  return load_and_preprocess_image(path), label\n",
        "\n",
        "image_label_ds = ds.map(load_and_preprocess_from_path_label)\n",
        "image_label_ds"
      ],
      "outputs": [],
      "metadata": {
        "id": "HOFwZI-2WhzV"
      }
    },
    {
      "cell_type": "markdown",
      "source": [
        "### Basic methods for training"
      ],
      "metadata": {
        "id": "vYGCgJuR_9Qp"
      }
    },
    {
      "cell_type": "markdown",
      "source": [
        "To train a model with this dataset you will want the data:\n",
        "\n",
        "* To be well shuffled.\n",
        "* To be batched.\n",
        "* To repeat forever.\n",
        "* To have batches available as soon as possible.\n",
        "\n",
        "These features can be easily added using the `tf.data` api."
      ],
      "metadata": {
        "id": "wwZavzgsIytz"
      }
    },
    {
      "cell_type": "code",
      "execution_count": null,
      "source": [
        "BATCH_SIZE = 32\n",
        "\n",
        "# Setting a shuffle buffer size as large as the dataset ensures that the data is\n",
        "# completely shuffled.\n",
        "ds = image_label_ds.shuffle(buffer_size=image_count)\n",
        "ds = ds.repeat()\n",
        "ds = ds.batch(BATCH_SIZE)\n",
        "# `prefetch` lets the dataset fetch batches, in the background while the model is training.\n",
        "ds = ds.prefetch(buffer_size=AUTOTUNE)\n",
        "ds"
      ],
      "outputs": [],
      "metadata": {
        "id": "uZmZJx8ePw_5"
      }
    },
    {
      "cell_type": "markdown",
      "source": [
        "There are a few things to note here:\n",
        "\n",
        "1. The order is important.\n",
        "\n",
        "  * A `.shuffle` *after* a `.repeat` would shuffle items across epoch boundaries (some items will be seen twice before others are seen at all).\n",
        "  * A `.shuffle` *after* a `.batch` would shuffle the order of the batches, but not shuffle the items across batches.\n",
        "\n",
        "1. Use a `buffer_size` the same size as the dataset for a full shuffle. Up to the dataset size, large values provide better randomization, but use more memory.\n",
        "\n",
        "1. The shuffle buffer is filled before any elements are pulled from it. So a large `buffer_size` may cause a delay when your `Dataset` is starting.\n",
        "\n",
        "1. The shuffled dataset doesn't report the end of a dataset until the shuffle-buffer is completely empty. The `Dataset` is restarted by `.repeat`, causing another wait for the shuffle-buffer to be filled.\n",
        "\n",
        "This last point, as well as the order of `.shuffle` and `.repeat`, can be addressed by using the `tf.data.Dataset.apply` method with the fused `tf.data.experimental.shuffle_and_repeat` function:"
      ],
      "metadata": {
        "id": "6JsM-xHiFCuW"
      }
    },
    {
      "cell_type": "code",
      "execution_count": null,
      "source": [
        "ds = image_label_ds.apply(\n",
        "  tf.data.experimental.shuffle_and_repeat(buffer_size=image_count))\n",
        "ds = ds.batch(BATCH_SIZE)\n",
        "ds = ds.prefetch(buffer_size=AUTOTUNE)\n",
        "ds"
      ],
      "outputs": [],
      "metadata": {
        "id": "Ocr6PybXNDoO"
      }
    },
    {
      "cell_type": "markdown",
      "source": [
        "  * For more on ordering the operations, see [Repeat and Shuffle](https://www.tensorflow.org/r1/guide/performance/datasets#repeat_and_shuffle) in the Input Pipeline Performance guide.\n",
        "\n",
        "### Pipe the dataset to a model\n",
        "\n",
        "Fetch a copy of MobileNet v2 from `tf.keras.applications`.\n",
        "\n",
        "This will be used for a simple transfer learning example.\n",
        "\n",
        "Set the MobileNet weights to be non-trainable:"
      ],
      "metadata": {
        "id": "GBBZMSuAmQVL"
      }
    },
    {
      "cell_type": "code",
      "execution_count": null,
      "source": [
        "mobile_net = tf.keras.applications.MobileNetV2(input_shape=(192, 192, 3), include_top=False)\n",
        "mobile_net.trainable=False"
      ],
      "outputs": [],
      "metadata": {
        "id": "KbJrXn9omO_g"
      }
    },
    {
      "cell_type": "markdown",
      "source": [
        "This model expects its input to be normalized to the `[-1,1]` range:\n",
        "\n",
        "```\n",
        "help(keras_applications.mobilenet_v2.preprocess_input)\n",
        "```\n",
        "\n",
        "<pre>\n",
        "...\n",
        "This function applies the \"Inception\" preprocessing which converts\n",
        "the RGB values from [0, 255] to [-1, 1]\n",
        "...\n",
        "</pre>"
      ],
      "metadata": {
        "id": "Y7NVWiLF3Vbf"
      }
    },
    {
      "cell_type": "markdown",
      "source": [
        "So before passing data to the MobileNet model, you need to convert the input from a range of `[0,1]` to `[-1,1]`."
      ],
      "metadata": {
        "id": "CboYya6LmdQI"
      }
    },
    {
      "cell_type": "code",
      "execution_count": null,
      "source": [
        "def change_range(image,label):\n",
        "  return 2*image-1, label\n",
        "\n",
        "keras_ds = ds.map(change_range)"
      ],
      "outputs": [],
      "metadata": {
        "id": "SNOkHUGv3FYq"
      }
    },
    {
      "cell_type": "markdown",
      "source": [
        "The MobileNet returns a `6x6` spatial grid of features for each image.\n",
        "\n",
        "Pass it a batch of images to see:"
      ],
      "metadata": {
        "id": "QDzZ3Nye5Rpv"
      }
    },
    {
      "cell_type": "code",
      "execution_count": null,
      "source": [
        "# The dataset may take a few seconds to start, as it fills its shuffle buffer.\n",
        "image_batch, label_batch = next(iter(keras_ds))"
      ],
      "outputs": [],
      "metadata": {
        "id": "OzAhGkEK6WuE"
      }
    },
    {
      "cell_type": "code",
      "execution_count": null,
      "source": [
        "feature_map_batch = mobile_net(image_batch)\n",
        "print(feature_map_batch.shape)"
      ],
      "outputs": [],
      "metadata": {
        "id": "LcFdiWpO5WbV"
      }
    },
    {
      "cell_type": "markdown",
      "source": [
        "Because of this output shape, build a model wrapped around MobileNet using `tf.keras.layers.GlobalAveragePooling2D` to average over the space dimensions before the output `tf.keras.layers.Dense` layer:"
      ],
      "metadata": {
        "id": "vrbjEvaC5XmU"
      }
    },
    {
      "cell_type": "code",
      "execution_count": null,
      "source": [
        "model = tf.keras.Sequential([\n",
        "  mobile_net,\n",
        "  tf.keras.layers.GlobalAveragePooling2D(),\n",
        "  tf.keras.layers.Dense(len(label_names), activation = 'softmax')])"
      ],
      "outputs": [],
      "metadata": {
        "id": "X0ooIU9fNjPJ"
      }
    },
    {
      "cell_type": "markdown",
      "source": [
        "Now it produces outputs of the expected shape:"
      ],
      "metadata": {
        "id": "foQYUJs97V4V"
      }
    },
    {
      "cell_type": "code",
      "execution_count": null,
      "source": [
        "logit_batch = model(image_batch).numpy()\n",
        "\n",
        "print(\"min logit:\", logit_batch.min())\n",
        "print(\"max logit:\", logit_batch.max())\n",
        "print()\n",
        "\n",
        "print(\"Shape:\", logit_batch.shape)"
      ],
      "outputs": [],
      "metadata": {
        "id": "1nwYxvpj7ZEf"
      }
    },
    {
      "cell_type": "markdown",
      "source": [
        "Compile the model to describe the training procedure:"
      ],
      "metadata": {
        "id": "pFc4I_J2nNOJ"
      }
    },
    {
      "cell_type": "code",
      "execution_count": null,
      "source": [
        "model.compile(optimizer=tf.train.AdamOptimizer(),\n",
        "              loss=tf.keras.losses.sparse_categorical_crossentropy,\n",
        "              metrics=[\"accuracy\"])"
      ],
      "outputs": [],
      "metadata": {
        "id": "ZWGqLEWYRNvv"
      }
    },
    {
      "cell_type": "markdown",
      "source": [
        "There are 2 trainable variables: the Dense `weights` and `bias`:"
      ],
      "metadata": {
        "id": "tF1mO6haBOSd"
      }
    },
    {
      "cell_type": "code",
      "execution_count": null,
      "source": [
        "len(model.trainable_variables)"
      ],
      "outputs": [],
      "metadata": {
        "id": "pPQ5yqyKBJMm"
      }
    },
    {
      "cell_type": "code",
      "execution_count": null,
      "source": [
        "model.summary()"
      ],
      "outputs": [],
      "metadata": {
        "id": "kug5Wg66UJjl"
      }
    },
    {
      "cell_type": "markdown",
      "source": [
        "Train the model.\n",
        "\n",
        "Normally you would specify the real number of steps per epoch, but for demonstration purposes only run 3 steps."
      ],
      "metadata": {
        "id": "f_glpYZ-nYC_"
      }
    },
    {
      "cell_type": "code",
      "execution_count": null,
      "source": [
        "steps_per_epoch=tf.ceil(len(all_image_paths)/BATCH_SIZE).numpy()\n",
        "steps_per_epoch"
      ],
      "outputs": [],
      "metadata": {
        "id": "AnXPRNWoTypI"
      }
    },
    {
      "cell_type": "code",
      "execution_count": null,
      "source": [
        "model.fit(ds, epochs=1, steps_per_epoch=3)"
      ],
      "outputs": [],
      "metadata": {
        "id": "q_8sabaaSGAp"
      }
    },
    {
      "cell_type": "markdown",
      "source": [
        "## Performance\n",
        "\n",
        "Note: This section just shows a couple of easy tricks that may help performance. For an in depth guide see [Input Pipeline Performance](https://www.tensorflow.org/r1/guide/performance/datasets).\n",
        "\n",
        "The simple pipeline used above reads each file individually, on each epoch. This is fine for local training on CPU but may not be sufficient for GPU training, and is totally inappropriate for any sort of distributed training."
      ],
      "metadata": {
        "id": "UMVnoBcG_NlQ"
      }
    },
    {
      "cell_type": "markdown",
      "source": [
        "To investigate, first build a simple function to check the performance of our datasets:"
      ],
      "metadata": {
        "id": "oNmQqgGhLWie"
      }
    },
    {
      "cell_type": "code",
      "execution_count": null,
      "source": [
        "import time\n",
        "\n",
        "def timeit(ds, batches=2*steps_per_epoch+1):\n",
        "  overall_start = time.time()\n",
        "  # Fetch a single batch to prime the pipeline (fill the shuffle buffer),\n",
        "  # before starting the timer\n",
        "  it = iter(ds.take(batches+1))\n",
        "  next(it)\n",
        "\n",
        "  start = time.time()\n",
        "  for i,(images,labels) in enumerate(it):\n",
        "    if i%10 == 0:\n",
        "      print('.',end='')\n",
        "  print()\n",
        "  end = time.time()\n",
        "\n",
        "  duration = end-start\n",
        "  print(\"{} batches: {} s\".format(batches, duration))\n",
        "  print(\"{:0.5f} Images/s\".format(BATCH_SIZE*batches/duration))\n",
        "  print(\"Total time: {}s\".format(end-overall_start))"
      ],
      "outputs": [],
      "metadata": {
        "id": "_gFVe1rp_MYr"
      }
    },
    {
      "cell_type": "markdown",
      "source": [
        "The performance of the current dataset is:"
      ],
      "metadata": {
        "id": "TYiOr4vdLcNX"
      }
    },
    {
      "cell_type": "code",
      "execution_count": null,
      "source": [
        "ds = image_label_ds.apply(\n",
        "  tf.data.experimental.shuffle_and_repeat(buffer_size=image_count))\n",
        "ds = ds.batch(BATCH_SIZE).prefetch(buffer_size=AUTOTUNE)\n",
        "ds"
      ],
      "outputs": [],
      "metadata": {
        "id": "ZDxLwMJOReVe"
      }
    },
    {
      "cell_type": "code",
      "execution_count": null,
      "source": [
        "timeit(ds)"
      ],
      "outputs": [],
      "metadata": {
        "id": "IjouTJadRxyp"
      }
    },
    {
      "cell_type": "markdown",
      "source": [
        "### Cache"
      ],
      "metadata": {
        "id": "HsLlXMO7EWBR"
      }
    },
    {
      "cell_type": "markdown",
      "source": [
        "Use `tf.data.Dataset.cache` to easily cache calculations across epochs. This is especially performant if the data fits in memory.\n",
        "\n",
        "Here the images are cached, after being pre-precessed (decoded and resized):"
      ],
      "metadata": {
        "id": "lV1NOn2zE2lR"
      }
    },
    {
      "cell_type": "code",
      "execution_count": null,
      "source": [
        "ds = image_label_ds.cache()\n",
        "ds = ds.apply(\n",
        "  tf.data.experimental.shuffle_and_repeat(buffer_size=image_count))\n",
        "ds = ds.batch(BATCH_SIZE).prefetch(buffer_size=AUTOTUNE)\n",
        "ds"
      ],
      "outputs": [],
      "metadata": {
        "id": "qj_U09xpDvOg"
      }
    },
    {
      "cell_type": "code",
      "execution_count": null,
      "source": [
        "timeit(ds)"
      ],
      "outputs": [],
      "metadata": {
        "id": "rdxpvQ7VEo3y"
      }
    },
    {
      "cell_type": "markdown",
      "source": [
        "One disadvantage to using an in-memory cache is that the cache must be rebuilt on each run, giving the same startup delay each time the dataset is started:"
      ],
      "metadata": {
        "id": "usIv7MqqZQps"
      }
    },
    {
      "cell_type": "code",
      "execution_count": null,
      "source": [
        "timeit(ds)"
      ],
      "outputs": [],
      "metadata": {
        "id": "eKX6ergKb_xd"
      }
    },
    {
      "cell_type": "markdown",
      "source": [
        "If the data doesn't fit in memory, use a cache file:"
      ],
      "metadata": {
        "id": "jUzpG4lYNkN-"
      }
    },
    {
      "cell_type": "code",
      "execution_count": null,
      "source": [
        "ds = image_label_ds.cache(filename='./cache.tf-data')\n",
        "ds = ds.apply(\n",
        "  tf.data.experimental.shuffle_and_repeat(buffer_size=image_count))\n",
        "ds = ds.batch(BATCH_SIZE).prefetch(1)\n",
        "ds"
      ],
      "outputs": [],
      "metadata": {
        "id": "vIvF8K4GMq0g"
      }
    },
    {
      "cell_type": "code",
      "execution_count": null,
      "source": [
        "timeit(ds)"
      ],
      "outputs": [],
      "metadata": {
        "id": "eTIj6IOmM4yA"
      }
    },
    {
      "cell_type": "markdown",
      "source": [
        "The cache file also has the advantage that it can be used to quickly restart the dataset without rebuilding the cache. Note how much faster it is the second time:"
      ],
      "metadata": {
        "id": "qqo3dyB0Z4t2"
      }
    },
    {
      "cell_type": "code",
      "execution_count": null,
      "source": [
        "timeit(ds)"
      ],
      "outputs": [],
      "metadata": {
        "id": "hZhVdR8MbaUj"
      }
    },
    {
      "cell_type": "markdown",
      "source": [
        "### TFRecord File"
      ],
      "metadata": {
        "id": "WqOVlf8tFrDU"
      }
    },
    {
      "cell_type": "markdown",
      "source": [
        "#### Raw image data\n",
        "\n",
        "TFRecord files are a simple format for storing a sequence of binary blobs. By packing multiple examples into the same file, TensorFlow is able to read multiple examples at once, which is especially important for performance when using a remote storage service such as GCS.\n",
        "\n",
        "First, build a TFRecord file from the raw image data:"
      ],
      "metadata": {
        "id": "y1llOTwWFzmR"
      }
    },
    {
      "cell_type": "code",
      "execution_count": null,
      "source": [
        "image_ds = tf.data.Dataset.from_tensor_slices(all_image_paths).map(tf.read_file)\n",
        "tfrec = tf.data.experimental.TFRecordWriter('images.tfrec')\n",
        "tfrec.write(image_ds)"
      ],
      "outputs": [],
      "metadata": {
        "id": "EqtARqKuHQLu"
      }
    },
    {
      "cell_type": "markdown",
      "source": [
        "Next build a dataset that reads from the TFRecord file and decodes/reformats the images using the `preprocess_image` function you defined earlier."
      ],
      "metadata": {
        "id": "flR2GXWFKcO1"
      }
    },
    {
      "cell_type": "code",
      "execution_count": null,
      "source": [
        "image_ds = tf.data.TFRecordDataset('images.tfrec').map(preprocess_image)"
      ],
      "outputs": [],
      "metadata": {
        "id": "j9PVUL2SFufn"
      }
    },
    {
      "cell_type": "markdown",
      "source": [
        "Zip that with the labels dataset you defined earlier, to get the expected `(image,label)` pairs."
      ],
      "metadata": {
        "id": "cRp1eZDRKzyN"
      }
    },
    {
      "cell_type": "code",
      "execution_count": null,
      "source": [
        "ds = tf.data.Dataset.zip((image_ds, label_ds))\n",
        "ds = ds.apply(\n",
        "  tf.data.experimental.shuffle_and_repeat(buffer_size=image_count))\n",
        "ds=ds.batch(BATCH_SIZE).prefetch(AUTOTUNE)\n",
        "ds"
      ],
      "outputs": [],
      "metadata": {
        "id": "7XI_nDU2KuhS"
      }
    },
    {
      "cell_type": "code",
      "execution_count": null,
      "source": [
        "timeit(ds)"
      ],
      "outputs": [],
      "metadata": {
        "id": "3ReSapoPK22E"
      }
    },
    {
      "cell_type": "markdown",
      "source": [
        "This is slower than the `cache` version because you have not cached the preprocessing."
      ],
      "metadata": {
        "id": "wb7VyoKNOMms"
      }
    },
    {
      "cell_type": "markdown",
      "source": [
        "#### Serialized Tensors"
      ],
      "metadata": {
        "id": "NF9W-CTKkM-f"
      }
    },
    {
      "cell_type": "markdown",
      "source": [
        "To save some preprocessing to the TFRecord file, first make a dataset of the processed images, as before:"
      ],
      "metadata": {
        "id": "J9HzljSPkxt0"
      }
    },
    {
      "cell_type": "code",
      "execution_count": null,
      "source": [
        "paths_ds = tf.data.Dataset.from_tensor_slices(all_image_paths)\n",
        "image_ds = paths_ds.map(load_and_preprocess_image)\n",
        "image_ds"
      ],
      "outputs": [],
      "metadata": {
        "id": "OzS0Azukkjyw"
      }
    },
    {
      "cell_type": "markdown",
      "source": [
        "Now instead of a dataset of `.jpeg` strings, this is a dataset of tensors.\n",
        "\n",
        "To serialize this to a TFRecord file you first convert the dataset of tensors to a dataset of strings."
      ],
      "metadata": {
        "id": "onWOwLpYlzJQ"
      }
    },
    {
      "cell_type": "code",
      "execution_count": null,
      "source": [
        "ds = image_ds.map(tf.serialize_tensor)\n",
        "ds"
      ],
      "outputs": [],
      "metadata": {
        "id": "xxZSwnRllyf0"
      }
    },
    {
      "cell_type": "code",
      "execution_count": null,
      "source": [
        "tfrec = tf.data.experimental.TFRecordWriter('images.tfrec')\n",
        "tfrec.write(ds)"
      ],
      "outputs": [],
      "metadata": {
        "id": "w9N6hJWAkKPC"
      }
    },
    {
      "cell_type": "markdown",
      "source": [
        "With the preprocessing cached, data can be loaded from the TFRecord file quite efficiently. Just remember to de-serialize the tensor before trying to use it."
      ],
      "metadata": {
        "id": "OlFc9dJSmcx0"
      }
    },
    {
      "cell_type": "code",
      "execution_count": null,
      "source": [
        "ds = tf.data.TFRecordDataset('images.tfrec')\n",
        "\n",
        "def parse(x):\n",
        "  result = tf.parse_tensor(x, out_type=tf.float32)\n",
        "  result = tf.reshape(result, [192, 192, 3])\n",
        "  return result\n",
        "\n",
        "ds = ds.map(parse, num_parallel_calls=AUTOTUNE)\n",
        "ds"
      ],
      "outputs": [],
      "metadata": {
        "id": "BsqFyTBFmSCZ"
      }
    },
    {
      "cell_type": "markdown",
      "source": [
        "Now, add the labels and apply the same standard operations as before:"
      ],
      "metadata": {
        "id": "OPs_sLV9pQg5"
      }
    },
    {
      "cell_type": "code",
      "execution_count": null,
      "source": [
        "ds = tf.data.Dataset.zip((ds, label_ds))\n",
        "ds = ds.apply(\n",
        "  tf.data.experimental.shuffle_and_repeat(buffer_size=image_count))\n",
        "ds=ds.batch(BATCH_SIZE).prefetch(AUTOTUNE)\n",
        "ds"
      ],
      "outputs": [],
      "metadata": {
        "id": "XYxBwaLYnGop"
      }
    },
    {
      "cell_type": "code",
      "execution_count": null,
      "source": [
        "timeit(ds)"
      ],
      "outputs": [],
      "metadata": {
        "id": "W8X6RmGan1-P"
      }
    }
  ],
  "metadata": {
    "colab": {
      "collapsed_sections": [],
      "name": "images.ipynb",
      "toc_visible": true
    },
    "kernelspec": {
      "display_name": "Python 3",
      "name": "python3"
    }
  },
  "nbformat": 4,
  "nbformat_minor": 2
}