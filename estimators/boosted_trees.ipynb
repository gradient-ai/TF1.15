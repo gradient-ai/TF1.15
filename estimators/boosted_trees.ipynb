{
  "cells": [
    {
      "cell_type": "markdown",
      "source": [
        "##### Copyright 2019 The TensorFlow Authors."
      ],
      "metadata": {
        "id": "7765UFHoyGx6"
      }
    },
    {
      "cell_type": "code",
      "execution_count": null,
      "source": [
        "#@title Licensed under the Apache License, Version 2.0 (the \"License\");\n",
        "# you may not use this file except in compliance with the License.\n",
        "# You may obtain a copy of the License at\n",
        "#\n",
        "# https://www.apache.org/licenses/LICENSE-2.0\n",
        "#\n",
        "# Unless required by applicable law or agreed to in writing, software\n",
        "# distributed under the License is distributed on an \"AS IS\" BASIS,\n",
        "# WITHOUT WARRANTIES OR CONDITIONS OF ANY KIND, either express or implied.\n",
        "# See the License for the specific language governing permissions and\n",
        "# limitations under the License."
      ],
      "outputs": [],
      "metadata": {
        "cellView": "form",
        "id": "KVtTDrUNyL7x"
      }
    },
    {
      "cell_type": "markdown",
      "source": [
        "#How to train Boosted Trees models in TensorFlow"
      ],
      "metadata": {
        "id": "xPYxZMrWyA0N"
      }
    },
    {
      "cell_type": "markdown",
      "source": [
        "<table class=\"tfo-notebook-buttons\" align=\"left\">\n",
        "  <td>\n",
        "    <a target=\"_blank\" href=\"https://github.com/tensorflow/docs/blob/master/site/en/r1/tutorials/estimators/boosted_trees.ipynb\"><img src=\"https://www.tensorflow.org/images/GitHub-Mark-32px.png\">View source on GitHub</a>\n",
        "  </td>\n",
        "</table>"
      ],
      "metadata": {
        "id": "p_vOREjRx-Y0"
      }
    },
    {
      "cell_type": "markdown",
      "source": [
        "> Note: This is an archived TF1 notebook. These are configured\n",
        "to run in TF2's \n",
        "[compatbility mode](https://www.tensorflow.org/guide/migrate)\n",
        "but will run in TF1 as well. "
      ],
      "metadata": {
        "id": "p_vOREjRx-Y0"
      }
    },
    {
      "cell_type": "markdown",
      "source": [
        "This tutorial is an end-to-end walkthrough of training a Gradient Boosting  model using decision trees with the `tf.estimator` API. Boosted Trees models are among the most popular and effective machine learning approaches for both regression and classification. It is an ensemble technique that combines the predictions from several (think 10s, 100s or even 1000s) tree models.\n",
        "\n",
        "Boosted Trees models are popular with many machine learning practioners as they can achieve impressive performance with minimal hyperparameter tuning."
      ],
      "metadata": {
        "id": "dW3r7qVxzqN5"
      }
    },
    {
      "cell_type": "markdown",
      "source": [
        "## Load the titanic dataset\n",
        "You will be using the titanic dataset, where the (rather morbid) goal is to predict passenger survival, given characteristics such as gender, age, class, etc."
      ],
      "metadata": {
        "id": "eylrTPAN3rJV"
      }
    },
    {
      "cell_type": "code",
      "execution_count": null,
      "source": [
        "from matplotlib import pyplot as plt\n",
        "\n",
        "import numpy as np\n",
        "import pandas as pd\n",
        "import tensorflow.compat.v1 as tf\n",
        "\n",
        "tf.logging.set_verbosity(tf.logging.ERROR)\n",
        "tf.set_random_seed(123)\n",
        "\n",
        "# Load dataset.\n",
        "dftrain = pd.read_csv('https://storage.googleapis.com/tfbt/titanic_train.csv')\n",
        "dfeval = pd.read_csv('https://storage.googleapis.com/tfbt/titanic_eval.csv')\n",
        "y_train = dftrain.pop('survived')\n",
        "y_eval = dfeval.pop('survived')"
      ],
      "outputs": [],
      "metadata": {
        "id": "KuhAiPfZ3rJW"
      }
    },
    {
      "cell_type": "markdown",
      "source": [
        "The dataset consists of a training set and an evaluation set:\n",
        "\n",
        "* `dftrain` and `y_train` are the *training set*—the data the model uses to learn.\n",
        "* The model is tested against the *eval set*, `dfeval`, and `y_eval`.\n",
        "\n",
        "For training you will use the following features:\n",
        "\n",
        "\n",
        "<table>\n",
        "  <tr>\n",
        "    <th>Feature Name</th>\n",
        "    <th>Description</th>\n",
        "  </tr>\n",
        "  <tr>\n",
        "    <td>sex</td>\n",
        "    <td>Gender of passenger</td>\n",
        "  </tr>\n",
        "  <tr>\n",
        "    <td>age</td>\n",
        "    <td>Age of passenger</td>\n",
        "  </tr>\n",
        "    <tr>\n",
        "    <td>n_siblings_spouses</td>\n",
        "    <td># siblings and partners aboard</td>\n",
        "  </tr>\n",
        "    <tr>\n",
        "    <td>parch</td>\n",
        "    <td># of parents and children aboard</td>\n",
        "  </tr>\n",
        "    <tr>\n",
        "    <td>fare</td>\n",
        "    <td>Fare passenger paid.</td>\n",
        "  </tr>\n",
        "    <tr>\n",
        "    <td>class</td>\n",
        "    <td>Passenger's class on ship</td>\n",
        "  </tr>\n",
        "    <tr>\n",
        "    <td>deck</td>\n",
        "    <td>Which deck passenger was on</td>\n",
        "  </tr>\n",
        "    <tr>\n",
        "    <td>embark_town</td>\n",
        "    <td>Which town passenger embarked from</td>\n",
        "  </tr>\n",
        "    <tr>\n",
        "    <td>alone</td>\n",
        "    <td>If passenger was alone</td>\n",
        "  </tr>\n",
        "</table>"
      ],
      "metadata": {
        "id": "3ioodHdVJVdA"
      }
    },
    {
      "cell_type": "markdown",
      "source": [
        "## Explore the data"
      ],
      "metadata": {
        "id": "AoPiWsJALr-k"
      }
    },
    {
      "cell_type": "markdown",
      "source": [
        "Let's first preview some of the data and create summary statistics on the training set."
      ],
      "metadata": {
        "id": "slcat1yzmzw5"
      }
    },
    {
      "cell_type": "code",
      "execution_count": null,
      "source": [
        "dftrain.head()"
      ],
      "outputs": [],
      "metadata": {
        "id": "15PLelXBlxEW"
      }
    },
    {
      "cell_type": "code",
      "execution_count": null,
      "source": [
        "dftrain.describe()"
      ],
      "outputs": [],
      "metadata": {
        "id": "j2hiM4ETmqP0"
      }
    },
    {
      "cell_type": "markdown",
      "source": [
        "There are 627 and 264 examples in the training and evaluation sets, respectively."
      ],
      "metadata": {
        "id": "-IR0e8V-LyJ4"
      }
    },
    {
      "cell_type": "code",
      "execution_count": null,
      "source": [
        "dftrain.shape[0], dfeval.shape[0]"
      ],
      "outputs": [],
      "metadata": {
        "id": "_1NwYqGwDjFf"
      }
    },
    {
      "cell_type": "markdown",
      "source": [
        "The majority of passengers are in their 20's and 30's."
      ],
      "metadata": {
        "id": "28UFJ4KSMK3V"
      }
    },
    {
      "cell_type": "code",
      "execution_count": null,
      "source": [
        "dftrain.age.hist(bins=20)\n",
        "plt.show()"
      ],
      "outputs": [],
      "metadata": {
        "id": "CaVDmZtuDfux"
      }
    },
    {
      "cell_type": "markdown",
      "source": [
        "There are approximately twice as male passengers as female passengers aboard."
      ],
      "metadata": {
        "id": "1pifWiCoMbR5"
      }
    },
    {
      "cell_type": "code",
      "execution_count": null,
      "source": [
        "dftrain.sex.value_counts().plot(kind='barh')\n",
        "plt.show()"
      ],
      "outputs": [],
      "metadata": {
        "id": "-WazAq30MO5J"
      }
    },
    {
      "cell_type": "markdown",
      "source": [
        "The majority of passengers were in the \"third\" class."
      ],
      "metadata": {
        "id": "7_XkxrpmmVU_"
      }
    },
    {
      "cell_type": "code",
      "execution_count": null,
      "source": [
        "(dftrain['class']\n",
        "  .value_counts()\n",
        "  .plot(kind='barh'))\n",
        "plt.show()"
      ],
      "outputs": [],
      "metadata": {
        "id": "zZ3PvVy4l4gI"
      }
    },
    {
      "cell_type": "markdown",
      "source": [
        "Most passengers embarked from Southampton."
      ],
      "metadata": {
        "id": "HM5SlwlxmZMT"
      }
    },
    {
      "cell_type": "code",
      "execution_count": null,
      "source": [
        "(dftrain['embark_town']\n",
        "  .value_counts()\n",
        "  .plot(kind='barh'))\n",
        "plt.show()"
      ],
      "outputs": [],
      "metadata": {
        "id": "RVTSrdr4mZaC"
      }
    },
    {
      "cell_type": "markdown",
      "source": [
        "Females have a much higher chance of surviving vs. males. This will clearly be a predictive feature for the model."
      ],
      "metadata": {
        "id": "aTn1niLPob3x"
      }
    },
    {
      "cell_type": "code",
      "execution_count": null,
      "source": [
        "ax = (pd.concat([dftrain, y_train], axis=1)\\\n",
        "  .groupby('sex')\n",
        "  .survived\n",
        "  .mean()\n",
        "  .plot(kind='barh'))\n",
        "ax.set_xlabel('% survive')\n",
        "plt.show()"
      ],
      "outputs": [],
      "metadata": {
        "id": "Eh3KW5oYkaNS"
      }
    },
    {
      "cell_type": "markdown",
      "source": [
        "## Create feature columns and input functions\n",
        "The Gradient Boosting estimator can utilize both numeric and categorical features. Feature columns work with all TensorFlow estimators and their purpose is to define the features used for modeling. Additionally they provide some feature engineering capabilities like one-hot-encoding, normalization, and bucketization. In this tutorial, the fields in `CATEGORICAL_COLUMNS` are transformed from categorical columns to one-hot-encoded columns ([indicator column](https://www.tensorflow.org/api_docs/python/tf/feature_column/indicator_column)):"
      ],
      "metadata": {
        "id": "krkRHuMp3rJn"
      }
    },
    {
      "cell_type": "code",
      "execution_count": null,
      "source": [
        "fc = tf.feature_column\n",
        "CATEGORICAL_COLUMNS = ['sex', 'n_siblings_spouses', 'parch', 'class', 'deck',\n",
        "                       'embark_town', 'alone']\n",
        "NUMERIC_COLUMNS = ['age', 'fare']\n",
        "\n",
        "def one_hot_cat_column(feature_name, vocab):\n",
        "  return fc.indicator_column(\n",
        "      fc.categorical_column_with_vocabulary_list(feature_name,\n",
        "                                                 vocab))\n",
        "feature_columns = []\n",
        "for feature_name in CATEGORICAL_COLUMNS:\n",
        "  # Need to one-hot encode categorical features.\n",
        "  vocabulary = dftrain[feature_name].unique()\n",
        "  feature_columns.append(one_hot_cat_column(feature_name, vocabulary))\n",
        "\n",
        "for feature_name in NUMERIC_COLUMNS:\n",
        "  feature_columns.append(fc.numeric_column(feature_name,\n",
        "                                           dtype=tf.float32))"
      ],
      "outputs": [],
      "metadata": {
        "id": "upaNWxcF3rJn"
      }
    },
    {
      "cell_type": "markdown",
      "source": [
        "You can view the transformation that a feature column produces. For example, here is the output when using the `indicator_column` on a single example:"
      ],
      "metadata": {
        "id": "74GNtFpStSAz"
      }
    },
    {
      "cell_type": "code",
      "execution_count": null,
      "source": [
        "example = dftrain.head(1)\n",
        "class_fc = one_hot_cat_column('class', ('First', 'Second', 'Third'))\n",
        "print('Feature value: \"{}\"'.format(example['class'].iloc[0]))\n",
        "print('One-hot encoded: ', fc.input_layer(dict(example), [class_fc]).numpy())"
      ],
      "outputs": [],
      "metadata": {
        "id": "Eaq79D9FtmF8"
      }
    },
    {
      "cell_type": "markdown",
      "source": [
        "Additionally, you can view all of the feature column transformations together:"
      ],
      "metadata": {
        "id": "YbCUn3nCusC3"
      }
    },
    {
      "cell_type": "code",
      "execution_count": null,
      "source": [
        "fc.input_layer(dict(example), feature_columns).numpy()"
      ],
      "outputs": [],
      "metadata": {
        "id": "omIYcsVws3g0"
      }
    },
    {
      "cell_type": "markdown",
      "source": [
        "Next you need to create the input functions. These will specify how data will be read into our model for both training and inference. You will use the `from_tensor_slices` method in the [`tf.data`](https://www.tensorflow.org/api_docs/python/tf/data) API to read in data directly from Pandas. This is suitable for smaller, in-memory datasets. For larger datasets, the tf.data API supports a variety of file formats (including [csv](https://www.tensorflow.org/api_docs/python/tf/data/experimental/make_csv_dataset)) so that you can process datasets that do not fit in memory."
      ],
      "metadata": {
        "id": "-UOlROp33rJo"
      }
    },
    {
      "cell_type": "code",
      "execution_count": null,
      "source": [
        "# Use entire batch since this is such a small dataset.\n",
        "NUM_EXAMPLES = len(y_train)\n",
        "\n",
        "def make_input_fn(X, y, n_epochs=None, shuffle=True):\n",
        "  y = np.expand_dims(y, axis=1)\n",
        "  def input_fn():\n",
        "    dataset = tf.data.Dataset.from_tensor_slices((dict(X), y))\n",
        "    if shuffle:\n",
        "      dataset = dataset.shuffle(NUM_EXAMPLES)\n",
        "    # For training, cycle thru dataset as many times as need (n_epochs=None).\n",
        "    dataset = dataset.repeat(n_epochs)\n",
        "    # In memory training doesn't use batching.\n",
        "    dataset = dataset.batch(NUM_EXAMPLES)\n",
        "    return dataset\n",
        "  return input_fn\n",
        "\n",
        "# Training and evaluation input functions.\n",
        "train_input_fn = make_input_fn(dftrain, y_train)\n",
        "eval_input_fn = make_input_fn(dfeval, y_eval, shuffle=False, n_epochs=1)"
      ],
      "outputs": [],
      "metadata": {
        "id": "9dquwCQB3rJp"
      }
    },
    {
      "cell_type": "markdown",
      "source": [
        "## Train and evaluate the model\n",
        "\n",
        "Below you will do the following steps:\n",
        "\n",
        "1. Initialize the model, specifying the features and hyperparameters.\n",
        "2. Feed the training data to the model using the `train_input_fn` and train the model using the `train` function.\n",
        "3. You will assess model performance using the evaluation set—in this example, the `dfeval` DataFrame. You will verify that the predictions match the labels from the `y_eval` array.\n",
        "\n",
        "Before training a Boosted Trees model, let's first train a linear classifier (logistic regression model). It is best practice to start with simpler model to establish a benchmark."
      ],
      "metadata": {
        "id": "HttfNNlN3rJr"
      }
    },
    {
      "cell_type": "code",
      "execution_count": null,
      "source": [
        "linear_est = tf.estimator.LinearClassifier(feature_columns)\n",
        "\n",
        "# Train model.\n",
        "linear_est.train(train_input_fn, max_steps=100)\n",
        "\n",
        "# Evaluation.\n",
        "results = linear_est.evaluate(eval_input_fn)\n",
        "print('Accuracy : ', results['accuracy'])\n",
        "print('Dummy model: ', results['accuracy_baseline'])"
      ],
      "outputs": [],
      "metadata": {
        "id": "JPOGpmmq3rJr"
      }
    },
    {
      "cell_type": "markdown",
      "source": [
        "Next let's train a Boosted Trees model. For boosted trees, regression (`BoostedTreesRegressor`) and classification (`BoostedTreesClassifier`) are supported, along with using any twice differentiable custom loss (`BoostedTreesEstimator`). Since the goal is to predict a class - survive or not survive, you will use the `BoostedTreesClassifier`.\n"
      ],
      "metadata": {
        "id": "BarkNXwA3rJu"
      }
    },
    {
      "cell_type": "code",
      "execution_count": null,
      "source": [
        "# Since data fits into memory, use entire dataset per layer. It will be faster.\n",
        "# Above one batch is defined as the entire dataset.\n",
        "n_batches = 1\n",
        "est = tf.estimator.BoostedTreesClassifier(feature_columns,\n",
        "                                          n_batches_per_layer=n_batches)\n",
        "\n",
        "# The model will stop training once the specified number of trees is built, not\n",
        "# based on the number of steps.\n",
        "est.train(train_input_fn, max_steps=100)\n",
        "\n",
        "# Eval.\n",
        "results = est.evaluate(eval_input_fn)\n",
        "print('Accuracy : ', results['accuracy'])\n",
        "print('Dummy model: ', results['accuracy_baseline'])"
      ],
      "outputs": [],
      "metadata": {
        "id": "tgEzMtlw3rJu"
      }
    },
    {
      "cell_type": "markdown",
      "source": [
        "Now you can use the train model to make predictions on a passenger from the evaluation set. TensorFlow models are optimized to make predictions on a batch, or collection, of examples at once. Earlier,  the `eval_input_fn` is  defined using the entire evaluation set."
      ],
      "metadata": {
        "id": "hEflwznXvuMP"
      }
    },
    {
      "cell_type": "code",
      "execution_count": null,
      "source": [
        "pred_dicts = list(est.predict(eval_input_fn))\n",
        "probs = pd.Series([pred['probabilities'][1] for pred in pred_dicts])\n",
        "\n",
        "probs.plot(kind='hist', bins=20, title='predicted probabilities')\n",
        "plt.show()"
      ],
      "outputs": [],
      "metadata": {
        "id": "6zmIjTr73rJ4"
      }
    },
    {
      "cell_type": "markdown",
      "source": [
        "Finally you can also look at the receiver operating characteristic (ROC) of the results, which will give us a better idea of the tradeoff between the true positive rate and false positive rate."
      ],
      "metadata": {
        "id": "mBUaNN1BzJHG"
      }
    },
    {
      "cell_type": "code",
      "execution_count": null,
      "source": [
        "from sklearn.metrics import roc_curve\n",
        "\n",
        "fpr, tpr, _ = roc_curve(y_eval, probs)\n",
        "plt.plot(fpr, tpr)\n",
        "plt.title('ROC curve')\n",
        "plt.xlabel('false positive rate')\n",
        "plt.ylabel('true positive rate')\n",
        "plt.xlim(0,)\n",
        "plt.ylim(0,)\n",
        "plt.show()"
      ],
      "outputs": [],
      "metadata": {
        "id": "NzxghvVz3rJ6"
      }
    }
  ],
  "metadata": {
    "colab": {
      "collapsed_sections": [],
      "name": "boosted_trees.ipynb",
      "toc_visible": true
    },
    "kernelspec": {
      "display_name": "Python 3",
      "name": "python3"
    }
  },
  "nbformat": 4,
  "nbformat_minor": 2
}