{
  "cells": [
    {
      "cell_type": "markdown",
      "source": [
        "##### Copyright 2018 The TensorFlow Authors."
      ],
      "metadata": {
        "id": "MWW1TyjaecRh"
      }
    },
    {
      "cell_type": "code",
      "execution_count": null,
      "source": [
        "#@title Licensed under the Apache License, Version 2.0 (the \"License\");\n",
        "# you may not use this file except in compliance with the License.\n",
        "# You may obtain a copy of the License at\n",
        "#\n",
        "# https://www.apache.org/licenses/LICENSE-2.0\n",
        "#\n",
        "# Unless required by applicable law or agreed to in writing, software\n",
        "# distributed under the License is distributed on an \"AS IS\" BASIS,\n",
        "# WITHOUT WARRANTIES OR CONDITIONS OF ANY KIND, either express or implied.\n",
        "# See the License for the specific language governing permissions and\n",
        "# limitations under the License."
      ],
      "outputs": [],
      "metadata": {
        "cellView": "form",
        "id": "mOtR1FzCef-u"
      }
    },
    {
      "cell_type": "markdown",
      "source": [
        "# Build a linear model with Estimators"
      ],
      "metadata": {
        "id": "Zr7KpBhMcYvE"
      }
    },
    {
      "cell_type": "markdown",
      "source": [
        "<table class=\"tfo-notebook-buttons\" align=\"left\">\n",
        "  <td>\n",
        "    <a target=\"_blank\" href=\"https://github.com/tensorflow/docs/blob/master/site/en/r1/tutorials/estimators/linear.ipynb\"><img src=\"https://www.tensorflow.org/images/GitHub-Mark-32px.png\" />View source on GitHub</a>\n",
        "  </td>\n",
        "</table>"
      ],
      "metadata": {
        "id": "uJl4gaPFzxQz"
      }
    },
    {
      "cell_type": "markdown",
      "source": [
        "> Note: This is an archived TF1 notebook. These are configured\n",
        "to run in TF2's \n",
        "[compatbility mode](https://www.tensorflow.org/guide/migrate)\n",
        "but will run in TF1 as well. "
      ],
      "metadata": {
        "id": "uJl4gaPFzxQy"
      }
    },
    {
      "cell_type": "markdown",
      "source": [
        "This tutorial uses the `tf.estimator` API in TensorFlow to solve a benchmark binary classification problem. Estimators are TensorFlow's most scalable and production-oriented model type. For more information see the [Estimator guide](https://www.tensorflow.org/r1/guide/estimators).\n",
        "\n",
        "## Overview\n",
        "\n",
        "Using census data which contains data about a person's age, education, marital status, and occupation (the *features*), you will try to predict whether or not the person earns more than 50,000 dollars a year (the target *label*). You will train a *logistic regression* model that, given an individual's information, outputs a number between 0 and 1—this can be interpreted as the probability that the individual has an annual income of over 50,000 dollars.\n",
        "\n",
        "Key Point: As a modeler and developer, think about how this data is used and the potential benefits and harm a model's predictions can cause. A model like this could reinforce societal biases and disparities. Is each  feature relevant to the problem you want to solve or will it introduce bias? For more information, read about [ML fairness](https://developers.google.com/machine-learning/fairness-overview/).\n",
        "\n",
        "## Setup\n",
        "\n",
        "Import TensorFlow, feature column support, and supporting modules:"
      ],
      "metadata": {
        "id": "77aETSYDcdoK"
      }
    },
    {
      "cell_type": "code",
      "execution_count": null,
      "source": [
        "import tensorflow.compat.v1 as tf\n",
        "\n",
        "import tensorflow.feature_column as fc\n",
        "\n",
        "import os\n",
        "import sys\n",
        "\n",
        "import matplotlib.pyplot as plt\n",
        "from IPython.display import clear_output"
      ],
      "outputs": [],
      "metadata": {
        "id": "NQgONe5ecYvE"
      }
    },
    {
      "cell_type": "markdown",
      "source": [
        "And let's enable [eager execution](https://www.tensorflow.org/r1/guide/eager) to inspect this program as you run it:"
      ],
      "metadata": {
        "id": "Rpb1JSMj1nqk"
      }
    },
    {
      "cell_type": "markdown",
      "source": [
        "## Download the official implementation\n",
        "\n",
        "You will use the [wide and deep model](https://github.com/tensorflow/models/tree/master/official/r1/wide_deep/) available in TensorFlow's [model repository](https://github.com/tensorflow/models/). Download the code, add the root directory to your Python path, and jump to the `wide_deep` directory:"
      ],
      "metadata": {
        "id": "-MPr95UccYvL"
      }
    },
    {
      "cell_type": "code",
      "execution_count": null,
      "source": [
        "! pip install requests\n",
        "! git clone --depth 1 --branch r2.1.0 https://github.com/tensorflow/models"
      ],
      "outputs": [],
      "metadata": {
        "id": "tTwQzWcn8aBu"
      }
    },
    {
      "cell_type": "markdown",
      "source": [
        "Add the root directory of the repository to your Python path:"
      ],
      "metadata": {
        "id": "sRpuysc73Eb-"
      }
    },
    {
      "cell_type": "code",
      "execution_count": null,
      "source": [
        "models_path = os.path.join(os.getcwd(), 'models')\n",
        "\n",
        "sys.path.append(models_path)"
      ],
      "outputs": [],
      "metadata": {
        "id": "yVvFyhnkcYvL"
      }
    },
    {
      "cell_type": "markdown",
      "source": [
        "Download the dataset:"
      ],
      "metadata": {
        "id": "15Ethw-wcYvP"
      }
    },
    {
      "cell_type": "code",
      "execution_count": null,
      "source": [
        "from official.r1.wide_deep import census_dataset\n",
        "from official.r1.wide_deep import census_main\n",
        "\n",
        "census_dataset.download(\"/tmp/census_data/\")"
      ],
      "outputs": [],
      "metadata": {
        "id": "6QilS4-0cYvQ"
      }
    },
    {
      "cell_type": "markdown",
      "source": [
        "### Command line usage\n",
        "\n",
        "The repo includes a complete program for experimenting with this type of model.\n",
        "\n",
        "To execute the tutorial code from the command line first add the path to tensorflow/models to your `PYTHONPATH`."
      ],
      "metadata": {
        "id": "cD5e3ibAcYvS"
      }
    },
    {
      "cell_type": "code",
      "execution_count": null,
      "source": [
        "#export PYTHONPATH=${PYTHONPATH}:\"$(pwd)/models\"\n",
        "#running from python you need to set the `os.environ` or the subprocess will not see the directory.\n",
        "\n",
        "if \"PYTHONPATH\" in os.environ:\n",
        "  os.environ['PYTHONPATH'] += os.pathsep +  models_path\n",
        "else:\n",
        "  os.environ['PYTHONPATH'] = models_path"
      ],
      "outputs": [],
      "metadata": {
        "id": "DYOkY8boUptJ"
      }
    },
    {
      "cell_type": "markdown",
      "source": [
        "Use `--help` to see what command line options are available:"
      ],
      "metadata": {
        "id": "5r0V9YUMUyoh"
      }
    },
    {
      "cell_type": "code",
      "execution_count": null,
      "source": [
        "!python -m official.r1.wide_deep.census_main --help"
      ],
      "outputs": [],
      "metadata": {
        "id": "1_3tBaLW4YM4"
      }
    },
    {
      "cell_type": "markdown",
      "source": [
        "Now run the model:\n"
      ],
      "metadata": {
        "id": "RrMLazEN6DMj"
      }
    },
    {
      "cell_type": "code",
      "execution_count": null,
      "source": [
        "!python -m official.r1.wide_deep.census_main --model_type=wide --train_epochs=2"
      ],
      "outputs": [],
      "metadata": {
        "id": "py7MarZl5Yh6"
      }
    },
    {
      "cell_type": "markdown",
      "source": [
        "## Read the U.S. Census data\n",
        "\n",
        "This example uses the [U.S Census Income Dataset](https://archive.ics.uci.edu/ml/datasets/Census+Income) from 1994 and 1995. The [census_dataset.py](https://github.com/tensorflow/models/tree/master/official/r1/wide_deep/census_dataset.py) script is provided to download the data and perform a little cleanup.\n",
        "\n",
        "Since the task is a *binary classification problem*, you will construct a label column named \"label\" whose value is 1 if the income is over 50K, and 0 otherwise. For reference, see the `input_fn` in [census_main.py](https://github.com/tensorflow/models/tree/master/official/r1/wide_deep/census_main.py).\n",
        "\n",
        "Let's look at the data to see which columns you can use to predict the target label:"
      ],
      "metadata": {
        "id": "AmZ4CpaOcYvV"
      }
    },
    {
      "cell_type": "code",
      "execution_count": null,
      "source": [
        "!ls  /tmp/census_data/"
      ],
      "outputs": [],
      "metadata": {
        "id": "N6Tgye8bcYvX"
      }
    },
    {
      "cell_type": "code",
      "execution_count": null,
      "source": [
        "train_file = \"/tmp/census_data/adult.data\"\n",
        "test_file = \"/tmp/census_data/adult.test\""
      ],
      "outputs": [],
      "metadata": {
        "id": "6y3mj9zKcYva"
      }
    },
    {
      "cell_type": "markdown",
      "source": [
        "[pandas](https://pandas.pydata.org/) provides some convenient utilities for data analysis. Here's a list of columns available in the Census Income dataset:"
      ],
      "metadata": {
        "id": "EO_McKgE5il2"
      }
    },
    {
      "cell_type": "code",
      "execution_count": null,
      "source": [
        "import pandas\n",
        "\n",
        "train_df = pandas.read_csv(train_file, names=census_dataset._CSV_COLUMNS)\n",
        "test_df = pandas.read_csv(test_file, names=census_dataset._CSV_COLUMNS)\n",
        "\n",
        "train_df.head()"
      ],
      "outputs": [],
      "metadata": {
        "id": "vkn1FNmpcYvb"
      }
    },
    {
      "cell_type": "markdown",
      "source": [
        "The columns are grouped into two types: *categorical* and *continuous* columns:\n",
        "\n",
        "* A column is called *categorical* if its value can only be one of the categories in a finite set. For example, the relationship status of a person (wife, husband, unmarried, etc.) or the education level (high school, college, etc.) are categorical columns.\n",
        "* A column is called *continuous* if its value can be any numerical value in a continuous range. For example, the capital gain of a person (e.g. $14,084) is a continuous column.\n",
        "\n",
        "## Converting Data into Tensors\n",
        "\n",
        "When building a `tf.estimator` model, the input data is specified by using an *input function* (or `input_fn`). This builder function returns a `tf.data.Dataset` of batches of `(features-dict, label)` pairs. It is not called until it is passed to `tf.estimator.Estimator` methods such as `train` and `evaluate`.\n",
        "\n",
        "The input builder function returns the following pair:\n",
        "\n",
        "1. `features`: A dict from feature names to `Tensors` or `SparseTensors` containing batches of features.\n",
        "2. `labels`: A `Tensor` containing batches of labels.\n",
        "\n",
        "The keys of the `features` are used to configure the model's input layer.\n",
        "\n",
        "Note: The input function is called while constructing the TensorFlow graph, *not* while running the graph. It is returning a representation of the input data as a sequence of TensorFlow graph operations.\n",
        "\n",
        "For small problems like this, it's easy to make a `tf.data.Dataset` by slicing the `pandas.DataFrame`:"
      ],
      "metadata": {
        "id": "QZZtXes4cYvf"
      }
    },
    {
      "cell_type": "code",
      "execution_count": null,
      "source": [
        "def easy_input_function(df, label_key, num_epochs, shuffle, batch_size):\n",
        "  label = df[label_key]\n",
        "  ds = tf.data.Dataset.from_tensor_slices((dict(df),label))\n",
        "\n",
        "  if shuffle:\n",
        "    ds = ds.shuffle(10000)\n",
        "\n",
        "  ds = ds.batch(batch_size).repeat(num_epochs)\n",
        "\n",
        "  return ds"
      ],
      "outputs": [],
      "metadata": {
        "id": "N7zNJflKcYvg"
      }
    },
    {
      "cell_type": "markdown",
      "source": [
        "Since you have eager execution enabled, it's easy to inspect the resulting dataset:"
      ],
      "metadata": {
        "id": "WeEgNR9AcYvh"
      }
    },
    {
      "cell_type": "code",
      "execution_count": null,
      "source": [
        "ds = easy_input_function(train_df, label_key='income_bracket', num_epochs=5, shuffle=True, batch_size=10)\n",
        "\n",
        "for feature_batch, label_batch in ds.take(1):\n",
        "  print('Some feature keys:', list(feature_batch.keys())[:5])\n",
        "  print()\n",
        "  print('A batch of Ages  :', feature_batch['age'])\n",
        "  print()\n",
        "  print('A batch of Labels:', label_batch )"
      ],
      "outputs": [],
      "metadata": {
        "id": "ygaKuikecYvi"
      }
    },
    {
      "cell_type": "markdown",
      "source": [
        "But this approach has severly-limited scalability. Larger datasets should be streamed from disk. The `census_dataset.input_fn` provides an example of how to do this using `tf.decode_csv` and `tf.data.TextLineDataset`:\n",
        "\n",
        "<!-- TODO(markdaoust): This `input_fn` should use `tf.contrib.data.make_csv_dataset` -->"
      ],
      "metadata": {
        "id": "O_KZxQUucYvm"
      }
    },
    {
      "cell_type": "code",
      "execution_count": null,
      "source": [
        "import inspect\n",
        "print(inspect.getsource(census_dataset.input_fn))"
      ],
      "outputs": [],
      "metadata": {
        "id": "vUTeXaEUcYvn"
      }
    },
    {
      "cell_type": "markdown",
      "source": [
        "This `input_fn` returns equivalent output:"
      ],
      "metadata": {
        "id": "yyGcv_e-cYvq"
      }
    },
    {
      "cell_type": "code",
      "execution_count": null,
      "source": [
        "ds = census_dataset.input_fn(train_file, num_epochs=5, shuffle=True, batch_size=10)\n",
        "\n",
        "for feature_batch, label_batch in ds.take(1):\n",
        "  print('Feature keys:', list(feature_batch.keys())[:5])\n",
        "  print()\n",
        "  print('Age batch   :', feature_batch['age'])\n",
        "  print()\n",
        "  print('Label batch :', label_batch )"
      ],
      "outputs": [],
      "metadata": {
        "id": "Mv3as_CEcYvu"
      }
    },
    {
      "cell_type": "markdown",
      "source": [
        "Because `Estimators` expect an `input_fn` that takes no arguments, you typically wrap configurable input function into an object with the expected signature. For this notebook configure the `train_inpf` to iterate over the data twice:"
      ],
      "metadata": {
        "id": "810fnfY5cYvz"
      }
    },
    {
      "cell_type": "code",
      "execution_count": null,
      "source": [
        "import functools\n",
        "\n",
        "train_inpf = functools.partial(census_dataset.input_fn, train_file, num_epochs=2, shuffle=True, batch_size=64)\n",
        "test_inpf = functools.partial(census_dataset.input_fn, test_file, num_epochs=1, shuffle=False, batch_size=64)"
      ],
      "outputs": [],
      "metadata": {
        "id": "wnQdpEcVcYv0"
      }
    },
    {
      "cell_type": "markdown",
      "source": [
        "## Selecting and Engineering Features for the Model\n",
        "\n",
        "Estimators use a system called [feature columns](https://www.tensorflow.org/r1/guide/feature_columns) to describe how the model should interpret each of the raw input features. An Estimator expects a vector of numeric inputs, and feature columns describe how the model should convert each feature.\n",
        "\n",
        "Selecting and crafting the right set of feature columns is key to learning an effective model. A *feature column* can be either one of the raw inputs in the original features `dict` (a *base feature column*), or any new columns created using transformations defined over one or multiple base columns (a *derived feature columns*).\n",
        "\n",
        "A feature column is an abstract concept of any raw or derived variable that can be used to predict the target label."
      ],
      "metadata": {
        "id": "pboNpNWhcYv4"
      }
    },
    {
      "cell_type": "markdown",
      "source": [
        "### Base Feature Columns"
      ],
      "metadata": {
        "id": "_hh-cWdU__Lq"
      }
    },
    {
      "cell_type": "markdown",
      "source": [
        "#### Numeric columns\n",
        "\n",
        "The simplest `feature_column` is `numeric_column`. This indicates that a feature is a numeric value that should be input to the model directly. For example:"
      ],
      "metadata": {
        "id": "BKz6LA8_ACI7"
      }
    },
    {
      "cell_type": "code",
      "execution_count": null,
      "source": [
        "age = fc.numeric_column('age')"
      ],
      "outputs": [],
      "metadata": {
        "id": "ZX0r2T5OcYv6"
      }
    },
    {
      "cell_type": "markdown",
      "source": [
        "The model will use the `feature_column` definitions to build the model input. You can inspect the resulting output using the `input_layer` function:"
      ],
      "metadata": {
        "id": "tnLUiaHxcYv-"
      }
    },
    {
      "cell_type": "code",
      "execution_count": null,
      "source": [
        "fc.input_layer(feature_batch, [age]).numpy()"
      ],
      "outputs": [],
      "metadata": {
        "id": "kREtIPfwcYv_"
      }
    },
    {
      "cell_type": "markdown",
      "source": [
        "The following will train and evaluate a model using only the `age` feature:"
      ],
      "metadata": {
        "id": "OPuLduCucYwD"
      }
    },
    {
      "cell_type": "code",
      "execution_count": null,
      "source": [
        "classifier = tf.estimator.LinearClassifier(feature_columns=[age])\n",
        "classifier.train(train_inpf)\n",
        "result = classifier.evaluate(test_inpf)\n",
        "\n",
        "clear_output()  # used for display in notebook\n",
        "print(result)"
      ],
      "outputs": [],
      "metadata": {
        "id": "9R5eSJ1pcYwE"
      }
    },
    {
      "cell_type": "markdown",
      "source": [
        "Similarly, you can define a `NumericColumn` for each continuous feature column\n",
        "that you want to use in the model:"
      ],
      "metadata": {
        "id": "YDZGcdTdcYwI"
      }
    },
    {
      "cell_type": "code",
      "execution_count": null,
      "source": [
        "education_num = tf.feature_column.numeric_column('education_num')\n",
        "capital_gain = tf.feature_column.numeric_column('capital_gain')\n",
        "capital_loss = tf.feature_column.numeric_column('capital_loss')\n",
        "hours_per_week = tf.feature_column.numeric_column('hours_per_week')\n",
        "\n",
        "my_numeric_columns = [age,education_num, capital_gain, capital_loss, hours_per_week]\n",
        "\n",
        "fc.input_layer(feature_batch, my_numeric_columns).numpy()"
      ],
      "outputs": [],
      "metadata": {
        "id": "uqPbUqlxcYwJ"
      }
    },
    {
      "cell_type": "markdown",
      "source": [
        "You could retrain a model on these features by changing the `feature_columns` argument to the constructor:"
      ],
      "metadata": {
        "id": "cBGDN97IcYwQ"
      }
    },
    {
      "cell_type": "code",
      "execution_count": null,
      "source": [
        "classifier = tf.estimator.LinearClassifier(feature_columns=my_numeric_columns)\n",
        "classifier.train(train_inpf)\n",
        "\n",
        "result = classifier.evaluate(test_inpf)\n",
        "\n",
        "clear_output()\n",
        "\n",
        "for key,value in sorted(result.items()):\n",
        "  print('%s: %s' % (key, value))"
      ],
      "outputs": [],
      "metadata": {
        "id": "XN8k5S95cYwR"
      }
    },
    {
      "cell_type": "markdown",
      "source": [
        "#### Categorical columns\n",
        "\n",
        "To define a feature column for a categorical feature, create a `CategoricalColumn` using one of the `tf.feature_column.categorical_column*` functions.\n",
        "\n",
        "If you know the set of all possible feature values of a column—and there are only a few of them—use `categorical_column_with_vocabulary_list`. Each key in the list is assigned an auto-incremented ID starting from 0. For example, for the `relationship` column you can assign the feature string `Husband` to an integer ID of 0 and \"Not-in-family\" to 1, etc."
      ],
      "metadata": {
        "id": "jBRq9_AzcYwU"
      }
    },
    {
      "cell_type": "code",
      "execution_count": null,
      "source": [
        "relationship = fc.categorical_column_with_vocabulary_list(\n",
        "    'relationship',\n",
        "    ['Husband', 'Not-in-family', 'Wife', 'Own-child', 'Unmarried', 'Other-relative'])"
      ],
      "outputs": [],
      "metadata": {
        "id": "0IjqSi9tcYwV"
      }
    },
    {
      "cell_type": "markdown",
      "source": [
        "This creates a sparse one-hot vector from the raw input feature.\n",
        "\n",
        "The `input_layer` function you are using is designed for DNN models and expects dense inputs. To demonstrate the categorical column you must wrap it in a `tf.feature_column.indicator_column` to create the dense one-hot output (Linear `Estimators` can often skip this dense-step).\n",
        "\n",
        "Note: the other sparse-to-dense option is `tf.feature_column.embedding_column`.\n",
        "\n",
        "Run the input layer, configured with both the `age` and `relationship` columns:"
      ],
      "metadata": {
        "id": "-RjoWv-7cYwW"
      }
    },
    {
      "cell_type": "code",
      "execution_count": null,
      "source": [
        "fc.input_layer(feature_batch, [age, fc.indicator_column(relationship)])"
      ],
      "outputs": [],
      "metadata": {
        "id": "kI43CYlncYwY"
      }
    },
    {
      "cell_type": "markdown",
      "source": [
        "If you don't know the set of possible values in advance, use the `categorical_column_with_hash_bucket` instead:"
      ],
      "metadata": {
        "id": "tTudP7WHcYwb"
      }
    },
    {
      "cell_type": "code",
      "execution_count": null,
      "source": [
        "occupation = tf.feature_column.categorical_column_with_hash_bucket(\n",
        "    'occupation', hash_bucket_size=1000)"
      ],
      "outputs": [],
      "metadata": {
        "id": "8pSBaliCcYwb"
      }
    },
    {
      "cell_type": "markdown",
      "source": [
        "Here, each possible value in the feature column `occupation` is hashed to an integer ID as you encounter them in training. The example batch has a few different occupations:"
      ],
      "metadata": {
        "id": "fSAPrqQkcYwd"
      }
    },
    {
      "cell_type": "code",
      "execution_count": null,
      "source": [
        "for item in feature_batch['occupation'].numpy():\n",
        "    print(item.decode())"
      ],
      "outputs": [],
      "metadata": {
        "id": "dCvQNv36cYwe"
      }
    },
    {
      "cell_type": "markdown",
      "source": [
        "If you run `input_layer` with the hashed column, you see that the output shape is `(batch_size, hash_bucket_size)`:"
      ],
      "metadata": {
        "id": "KP5hN2rAcYwh"
      }
    },
    {
      "cell_type": "code",
      "execution_count": null,
      "source": [
        "occupation_result = fc.input_layer(feature_batch, [fc.indicator_column(occupation)])\n",
        "\n",
        "occupation_result.numpy().shape"
      ],
      "outputs": [],
      "metadata": {
        "id": "0Y16peWacYwh"
      }
    },
    {
      "cell_type": "markdown",
      "source": [
        "It's easier to see the actual results if you take the `tf.argmax` over the `hash_bucket_size` dimension. Notice how any duplicate occupations are mapped to the same pseudo-random index:"
      ],
      "metadata": {
        "id": "HMW2MzWAcYwk"
      }
    },
    {
      "cell_type": "code",
      "execution_count": null,
      "source": [
        "tf.argmax(occupation_result, axis=1).numpy()"
      ],
      "outputs": [],
      "metadata": {
        "id": "q_ryRglmcYwk"
      }
    },
    {
      "cell_type": "markdown",
      "source": [
        "Note: Hash collisions are unavoidable, but often have minimal impact on model quality. The effect may be noticable if the hash buckets are being used to compress the input space.\n",
        "\n",
        "No matter how you choose to define a `SparseColumn`, each feature string is mapped into an integer ID by looking up a fixed mapping or by hashing. Under the hood, the `LinearModel` class is responsible for managing the mapping and creating `tf.Variable` to store the model parameters (model *weights*) for each feature ID. The model parameters are learned through the model training process described later.\n",
        "\n",
        "Let's do the similar trick to define the other categorical features:"
      ],
      "metadata": {
        "id": "j1e5NfyKcYwn"
      }
    },
    {
      "cell_type": "code",
      "execution_count": null,
      "source": [
        "education = tf.feature_column.categorical_column_with_vocabulary_list(\n",
        "    'education', [\n",
        "        'Bachelors', 'HS-grad', '11th', 'Masters', '9th', 'Some-college',\n",
        "        'Assoc-acdm', 'Assoc-voc', '7th-8th', 'Doctorate', 'Prof-school',\n",
        "        '5th-6th', '10th', '1st-4th', 'Preschool', '12th'])\n",
        "\n",
        "marital_status = tf.feature_column.categorical_column_with_vocabulary_list(\n",
        "    'marital_status', [\n",
        "        'Married-civ-spouse', 'Divorced', 'Married-spouse-absent',\n",
        "        'Never-married', 'Separated', 'Married-AF-spouse', 'Widowed'])\n",
        "\n",
        "workclass = tf.feature_column.categorical_column_with_vocabulary_list(\n",
        "    'workclass', [\n",
        "        'Self-emp-not-inc', 'Private', 'State-gov', 'Federal-gov',\n",
        "        'Local-gov', '?', 'Self-emp-inc', 'Without-pay', 'Never-worked'])\n",
        "\n",
        "\n",
        "my_categorical_columns = [relationship, occupation, education, marital_status, workclass]"
      ],
      "outputs": [],
      "metadata": {
        "id": "0Z5eUrd_cYwo"
      }
    },
    {
      "cell_type": "markdown",
      "source": [
        "It's easy to use both sets of columns to configure a model that uses all these features:"
      ],
      "metadata": {
        "id": "ASQJM1pEcYwr"
      }
    },
    {
      "cell_type": "code",
      "execution_count": null,
      "source": [
        "classifier = tf.estimator.LinearClassifier(feature_columns=my_numeric_columns+my_categorical_columns)\n",
        "classifier.train(train_inpf)\n",
        "result = classifier.evaluate(test_inpf)\n",
        "\n",
        "clear_output()\n",
        "\n",
        "for key,value in sorted(result.items()):\n",
        "  print('%s: %s' % (key, value))"
      ],
      "outputs": [],
      "metadata": {
        "id": "_i_MLoo9cYws"
      }
    },
    {
      "cell_type": "markdown",
      "source": [
        "### Derived feature columns"
      ],
      "metadata": {
        "id": "zdKEqF6xcYwv"
      }
    },
    {
      "cell_type": "markdown",
      "source": [
        "#### Make Continuous Features Categorical through Bucketization\n",
        "\n",
        "Sometimes the relationship between a continuous feature and the label is not linear. For example, *age* and *income*—a person's income may grow in the early stage of their career, then the growth may slow at some point, and finally, the income decreases after retirement. In this scenario, using the raw `age` as a real-valued feature column might not be a good choice because the model can only learn one of the three cases:\n",
        "\n",
        "1.  Income always increases at some rate as age grows (positive correlation),\n",
        "2.  Income always decreases at some rate as age grows (negative correlation), or\n",
        "3.  Income stays the same no matter at what age (no correlation).\n",
        "\n",
        "If you want to learn the fine-grained correlation between income and each age group separately, you can leverage *bucketization*. Bucketization is a process of dividing the entire range of a continuous feature into a set of consecutive buckets, and then converting the original numerical feature into a bucket ID (as a categorical feature) depending on which bucket that value falls into. So, you can define a `bucketized_column` over `age` as:"
      ],
      "metadata": {
        "id": "RgYaf_48FSU2"
      }
    },
    {
      "cell_type": "code",
      "execution_count": null,
      "source": [
        "age_buckets = tf.feature_column.bucketized_column(\n",
        "    age, boundaries=[18, 25, 30, 35, 40, 45, 50, 55, 60, 65])"
      ],
      "outputs": [],
      "metadata": {
        "id": "KT4pjD9AcYww"
      }
    },
    {
      "cell_type": "markdown",
      "source": [
        "`boundaries` is a list of bucket boundaries. In this case, there are 10 boundaries, resulting in 11 age group buckets (from age 17 and below, 18-24, 25-29, ..., to 65 and over).\n",
        "\n",
        "With bucketing, the model sees each bucket as a one-hot feature:"
      ],
      "metadata": {
        "id": "S-XOscrEcYwx"
      }
    },
    {
      "cell_type": "code",
      "execution_count": null,
      "source": [
        "fc.input_layer(feature_batch, [age, age_buckets]).numpy()"
      ],
      "outputs": [],
      "metadata": {
        "id": "Lr40vm3qcYwy"
      }
    },
    {
      "cell_type": "markdown",
      "source": [
        "#### Learn complex relationships with crossed column\n",
        "\n",
        "Using each base feature column separately may not be enough to explain the data. For example, the correlation between education and the label (earning > 50,000 dollars) may be different for different occupations. Therefore, if you only learn a single model weight for `education=\"Bachelors\"` and `education=\"Masters\"`, you won't capture every education-occupation combination (e.g. distinguishing between `education=\"Bachelors\"` AND `occupation=\"Exec-managerial\"` AND `education=\"Bachelors\" AND occupation=\"Craft-repair\"`).\n",
        "\n",
        "To learn the differences between different feature combinations, you can add *crossed feature columns* to the model:"
      ],
      "metadata": {
        "id": "Z_tQI9j8cYw1"
      }
    },
    {
      "cell_type": "code",
      "execution_count": null,
      "source": [
        "education_x_occupation = tf.feature_column.crossed_column(\n",
        "    ['education', 'occupation'], hash_bucket_size=1000)"
      ],
      "outputs": [],
      "metadata": {
        "id": "IAPhPzXscYw1"
      }
    },
    {
      "cell_type": "markdown",
      "source": [
        "You can also create a `crossed_column` over more than two columns. Each constituent column can be either a base feature column that is categorical (`SparseColumn`), a bucketized real-valued feature column, or even another `CrossColumn`. For example:"
      ],
      "metadata": {
        "id": "UeTxMunbcYw5"
      }
    },
    {
      "cell_type": "code",
      "execution_count": null,
      "source": [
        "age_buckets_x_education_x_occupation = tf.feature_column.crossed_column(\n",
        "    [age_buckets, 'education', 'occupation'], hash_bucket_size=1000)"
      ],
      "outputs": [],
      "metadata": {
        "id": "y8UaBld9cYw7"
      }
    },
    {
      "cell_type": "markdown",
      "source": [
        "These crossed columns always use hash buckets to avoid the exponential explosion in the number of categories, and put the control over number of model weights in the hands of the user.\n"
      ],
      "metadata": {
        "id": "HvKmW6U5cYw8"
      }
    },
    {
      "cell_type": "markdown",
      "source": [
        "## Define the logistic regression model\n",
        "\n",
        "After processing the input data and defining all the feature columns, you can put them together and build a *logistic regression* model. The previous section showed several types of base and derived feature columns, including:\n",
        "\n",
        "*   `CategoricalColumn`\n",
        "*   `NumericColumn`\n",
        "*   `BucketizedColumn`\n",
        "*   `CrossedColumn`\n",
        "\n",
        "All of these are subclasses of the abstract `FeatureColumn` class and can be added to the `feature_columns` field of a model:"
      ],
      "metadata": {
        "id": "HtjpheB6cYw9"
      }
    },
    {
      "cell_type": "code",
      "execution_count": null,
      "source": [
        "import tempfile\n",
        "\n",
        "base_columns = [\n",
        "    education, marital_status, relationship, workclass, occupation,\n",
        "    age_buckets,\n",
        "]\n",
        "\n",
        "crossed_columns = [\n",
        "    tf.feature_column.crossed_column(\n",
        "        ['education', 'occupation'], hash_bucket_size=1000),\n",
        "    tf.feature_column.crossed_column(\n",
        "        [age_buckets, 'education', 'occupation'], hash_bucket_size=1000),\n",
        "]\n",
        "\n",
        "model = tf.estimator.LinearClassifier(\n",
        "    model_dir=tempfile.mkdtemp(),\n",
        "    feature_columns=base_columns + crossed_columns,\n",
        "    optimizer=tf.train.FtrlOptimizer(learning_rate=0.1))"
      ],
      "outputs": [],
      "metadata": {
        "id": "Klmf3OxpcYw-"
      }
    },
    {
      "cell_type": "markdown",
      "source": [
        "The model automatically learns a bias term, which controls the prediction made without observing any features. The learned model files are stored in `model_dir`.\n",
        "\n",
        "## Train and evaluate the model\n",
        "\n",
        "After adding all the features to the model, let's train the model. Training a model is just a single command using the `tf.estimator` API:"
      ],
      "metadata": {
        "id": "jRhnPxUucYxC"
      }
    },
    {
      "cell_type": "code",
      "execution_count": null,
      "source": [
        "train_inpf = functools.partial(census_dataset.input_fn, train_file,\n",
        "                               num_epochs=40, shuffle=True, batch_size=64)\n",
        "\n",
        "model.train(train_inpf)\n",
        "\n",
        "clear_output()  # used for notebook display"
      ],
      "outputs": [],
      "metadata": {
        "id": "ZlrIBuoecYxD"
      }
    },
    {
      "cell_type": "markdown",
      "source": [
        "After the model is trained, evaluate the accuracy of the model by predicting the labels of the holdout data:"
      ],
      "metadata": {
        "id": "IvY3a9pzcYxH"
      }
    },
    {
      "cell_type": "code",
      "execution_count": null,
      "source": [
        "results = model.evaluate(test_inpf)\n",
        "\n",
        "clear_output()\n",
        "\n",
        "for key,value in sorted(results.items()):\n",
        "  print('%s: %0.2f' % (key, value))"
      ],
      "outputs": [],
      "metadata": {
        "id": "L9nVJEO8cYxI"
      }
    },
    {
      "cell_type": "markdown",
      "source": [
        "The first line of the output should display something like: `accuracy: 0.84`, which means the accuracy is 84%. You can try using more features and transformations to see if you can do better!\n",
        "\n",
        "After the model is evaluated, you can use it to predict whether an individual has an annual income of over 50,000 dollars given an individual's information input.\n",
        "\n",
        "Let's look in more detail how the model performed:"
      ],
      "metadata": {
        "id": "E0fAibNDcYxL"
      }
    },
    {
      "cell_type": "code",
      "execution_count": null,
      "source": [
        "import numpy as np\n",
        "\n",
        "predict_df = test_df[:20].copy()\n",
        "\n",
        "pred_iter = model.predict(\n",
        "    lambda:easy_input_function(predict_df, label_key='income_bracket',\n",
        "                               num_epochs=1, shuffle=False, batch_size=10))\n",
        "\n",
        "classes = np.array(['<=50K', '>50K'])\n",
        "pred_class_id = []\n",
        "\n",
        "for pred_dict in pred_iter:\n",
        "  pred_class_id.append(pred_dict['class_ids'])\n",
        "\n",
        "predict_df['predicted_class'] = classes[np.array(pred_class_id)]\n",
        "predict_df['correct'] = predict_df['predicted_class'] == predict_df['income_bracket']\n",
        "\n",
        "clear_output()\n",
        "\n",
        "predict_df[['income_bracket','predicted_class', 'correct']]"
      ],
      "outputs": [],
      "metadata": {
        "id": "8R5bz5CxcYxL"
      }
    },
    {
      "cell_type": "markdown",
      "source": [
        "For a working end-to-end example,  download our [example code](https://github.com/tensorflow/models/tree/master/official/r1/wide_deep/census_main.py) and set the `model_type` flag to `wide`."
      ],
      "metadata": {
        "id": "N_uCpFTicYxN"
      }
    },
    {
      "cell_type": "markdown",
      "source": [
        "## Adding Regularization to Prevent Overfitting\n",
        "\n",
        "Regularization is a technique used to avoid overfitting. Overfitting happens when a model performs well on the data it is trained on, but worse on test data that the model has not seen before. Overfitting can occur when a model is excessively complex, such as having too many parameters relative to the number of observed training data. Regularization allows you to control the model's complexity and make the model more generalizable to unseen data.\n",
        "\n",
        "You can add L1 and L2 regularizations to the model with the following code:"
      ],
      "metadata": {
        "id": "oyKy1lM_3gkL"
      }
    },
    {
      "cell_type": "code",
      "execution_count": null,
      "source": [
        "model_l1 = tf.estimator.LinearClassifier(\n",
        "    feature_columns=base_columns + crossed_columns,\n",
        "    optimizer=tf.train.FtrlOptimizer(\n",
        "        learning_rate=0.1,\n",
        "        l1_regularization_strength=10.0,\n",
        "        l2_regularization_strength=0.0))\n",
        "\n",
        "model_l1.train(train_inpf)\n",
        "\n",
        "results = model_l1.evaluate(test_inpf)\n",
        "clear_output()\n",
        "for key in sorted(results):\n",
        "  print('%s: %0.2f' % (key, results[key]))"
      ],
      "outputs": [],
      "metadata": {
        "id": "lzMUSBQ03hHx"
      }
    },
    {
      "cell_type": "code",
      "execution_count": null,
      "source": [
        "model_l2 = tf.estimator.LinearClassifier(\n",
        "    feature_columns=base_columns + crossed_columns,\n",
        "    optimizer=tf.train.FtrlOptimizer(\n",
        "        learning_rate=0.1,\n",
        "        l1_regularization_strength=0.0,\n",
        "        l2_regularization_strength=10.0))\n",
        "\n",
        "model_l2.train(train_inpf)\n",
        "\n",
        "results = model_l2.evaluate(test_inpf)\n",
        "clear_output()\n",
        "for key in sorted(results):\n",
        "  print('%s: %0.2f' % (key, results[key]))"
      ],
      "outputs": [],
      "metadata": {
        "id": "ofmPL212JIy2"
      }
    },
    {
      "cell_type": "markdown",
      "source": [
        "These regularized models don't perform much better than the base model. Let's look at the model's weight distributions to better see the effect of the regularization:"
      ],
      "metadata": {
        "id": "Lp1Rfy_k4e7w"
      }
    },
    {
      "cell_type": "code",
      "execution_count": null,
      "source": [
        "def get_flat_weights(model):\n",
        "  weight_names = [\n",
        "      name for name in model.get_variable_names()\n",
        "      if \"linear_model\" in name and \"Ftrl\" not in name]\n",
        "\n",
        "  weight_values = [model.get_variable_value(name) for name in weight_names]\n",
        "\n",
        "  weights_flat = np.concatenate([item.flatten() for item in weight_values], axis=0)\n",
        "\n",
        "  return weights_flat\n",
        "\n",
        "weights_flat = get_flat_weights(model)\n",
        "weights_flat_l1 = get_flat_weights(model_l1)\n",
        "weights_flat_l2 = get_flat_weights(model_l2)"
      ],
      "outputs": [],
      "metadata": {
        "id": "Wb6093N04XlS"
      }
    },
    {
      "cell_type": "markdown",
      "source": [
        "The models have many zero-valued weights caused by unused hash bins (there are many more hash bins than categories in some columns). You can mask these weights when viewing the weight distributions:"
      ],
      "metadata": {
        "id": "GskJmtfmL0p-"
      }
    },
    {
      "cell_type": "code",
      "execution_count": null,
      "source": [
        "weight_mask = weights_flat != 0\n",
        "\n",
        "weights_base = weights_flat[weight_mask]\n",
        "weights_l1 = weights_flat_l1[weight_mask]\n",
        "weights_l2 = weights_flat_l2[weight_mask]"
      ],
      "outputs": [],
      "metadata": {
        "id": "rM3agZe3MT3D"
      }
    },
    {
      "cell_type": "markdown",
      "source": [
        "Now plot the distributions:"
      ],
      "metadata": {
        "id": "NqBpxLLQNEBE"
      }
    },
    {
      "cell_type": "code",
      "execution_count": null,
      "source": [
        "plt.figure()\n",
        "_ = plt.hist(weights_base, bins=np.linspace(-3,3,30))\n",
        "plt.title('Base Model')\n",
        "plt.ylim([0,500])\n",
        "\n",
        "plt.figure()\n",
        "_ = plt.hist(weights_l1, bins=np.linspace(-3,3,30))\n",
        "plt.title('L1 - Regularization')\n",
        "plt.ylim([0,500])\n",
        "\n",
        "plt.figure()\n",
        "_ = plt.hist(weights_l2, bins=np.linspace(-3,3,30))\n",
        "plt.title('L2 - Regularization')\n",
        "_=plt.ylim([0,500])"
      ],
      "outputs": [],
      "metadata": {
        "id": "IdFK7wWa5_0K"
      }
    },
    {
      "cell_type": "markdown",
      "source": [
        "Both types of regularization squeeze the distribution of weights towards zero. L2 regularization has a greater effect in the tails of the distribution eliminating extreme weights. L1 regularization produces more exactly-zero values, in this case it sets ~200 to zero."
      ],
      "metadata": {
        "id": "Mv6knhFa5-iJ"
      }
    }
  ],
  "metadata": {
    "colab": {
      "collapsed_sections": [
        "MWW1TyjaecRh"
      ],
      "name": "linear.ipynb",
      "toc_visible": true
    },
    "kernelspec": {
      "display_name": "Python 3",
      "name": "python3"
    }
  },
  "nbformat": 4,
  "nbformat_minor": 2
}