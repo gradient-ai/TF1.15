{
  "cells": [
    {
      "cell_type": "markdown",
      "source": [
        "##### Copyright 2018 The TensorFlow Authors."
      ],
      "metadata": {
        "id": "W_tvPdyfA-BL"
      }
    },
    {
      "cell_type": "code",
      "execution_count": null,
      "source": [
        "#@title Licensed under the Apache License, Version 2.0 (the \"License\");\n",
        "# you may not use this file except in compliance with the License.\n",
        "# You may obtain a copy of the License at\n",
        "#\n",
        "# https://www.apache.org/licenses/LICENSE-2.0\n",
        "#\n",
        "# Unless required by applicable law or agreed to in writing, software\n",
        "# distributed under the License is distributed on an \"AS IS\" BASIS,\n",
        "# WITHOUT WARRANTIES OR CONDITIONS OF ANY KIND, either express or implied.\n",
        "# See the License for the specific language governing permissions and\n",
        "# limitations under the License."
      ],
      "outputs": [],
      "metadata": {
        "cellView": "form",
        "id": "0O_LFhwSBCjm"
      }
    },
    {
      "cell_type": "markdown",
      "source": [
        "# Hub with Keras\n",
        "\n",
        "<table class=\"tfo-notebook-buttons\" align=\"left\">\n",
        "  <td>\n",
        "    <a target=\"_blank\" href=\"https://github.com/tensorflow/docs/blob/master/site/en/r1/tutorials/images/hub_with_keras.ipynb\"><img src=\"https://www.tensorflow.org/images/GitHub-Mark-32px.png\" />View source on GitHub</a>\n",
        "  </td>\n",
        "  <td>\n",
        "    <a href=\"https://tfhub.dev/s?module-type=image-classification\"><img src=\"https://www.tensorflow.org/images/hub_logo_32px.png\" />See TF Hub model</a>\n",
        "  </td>\n",
        "</table>"
      ],
      "metadata": {
        "id": "PWUmcKKjtwXL"
      }
    },
    {
      "cell_type": "markdown",
      "source": [
        "> Note: This is an archived TF1 notebook. These are configured\n",
        "to run in TF2's \n",
        "[compatbility mode](https://www.tensorflow.org/guide/migrate)\n",
        "but will run in TF1 as well."
      ],
      "metadata": {
        "id": "PWUmcKKjtwXL"
      }
    },
    {
      "cell_type": "markdown",
      "source": [
        "[TensorFlow Hub](http://tensorflow.org/hub) is a way to share pretrained model components. See the [TensorFlow Module Hub](https://tfhub.dev/) for a searchable listing of pre-trained models.\n",
        "\n",
        "This tutorial demonstrates:\n",
        "\n",
        "1. How to use TensorFlow Hub with `tf.keras`.\n",
        "1. How to do image classification using TensorFlow Hub.\n",
        "1. How to do simple transfer learning."
      ],
      "metadata": {
        "id": "crU-iluJIEzw"
      }
    },
    {
      "cell_type": "markdown",
      "source": [
        "## Setup"
      ],
      "metadata": {
        "id": "CKFUvuEho9Th"
      }
    },
    {
      "cell_type": "markdown",
      "source": [
        "### Imports"
      ],
      "metadata": {
        "id": "7RVsYZLEpEWs"
      }
    },
    {
      "cell_type": "code",
      "execution_count": null,
      "source": [
        "!pip install -U tensorflow_hub"
      ],
      "outputs": [],
      "metadata": {
        "id": "nSiOCtv_Rwi_"
      }
    },
    {
      "cell_type": "code",
      "execution_count": null,
      "source": [
        "import matplotlib.pylab as plt\n",
        "\n",
        "import tensorflow.compat.v1 as tf\n"
      ],
      "outputs": [],
      "metadata": {
        "id": "OGNpmn43C0O6"
      }
    },
    {
      "cell_type": "code",
      "execution_count": null,
      "source": [
        "import os\n",
        "import tensorflow_hub as hub\n",
        "from tensorflow.keras import layers\n",
        "\n",
        "# Load compressed models from tensorflow_hub\n",
        "os.environ[\"TFHUB_MODEL_LOAD_FORMAT\"] = \"COMPRESSED\""
      ],
      "outputs": [],
      "metadata": {
        "id": "-V4l8oN8Lw2q"
      }
    },
    {
      "cell_type": "markdown",
      "source": [
        "## An ImageNet classifier"
      ],
      "metadata": {
        "id": "s4YuF5HvpM1W"
      }
    },
    {
      "cell_type": "markdown",
      "source": [
        "### Download the classifier\n",
        "\n",
        "Use `hub.module` to load a mobilenet, and `tf.keras.layers.Lambda` to wrap it up as a keras layer.\n",
        "\n",
        "The URL of any [TF2-compatible image classification module](https://tfhub.dev/s?module-type=image-classification&q=tf2) from tfhub.dev will work here."
      ],
      "metadata": {
        "id": "xEY_Ow5loN6q"
      }
    },
    {
      "cell_type": "code",
      "execution_count": null,
      "source": [
        "classifier_url =\"https://tfhub.dev/google/tf2-preview/mobilenet_v2/classification/2\" #@param {type:\"string\"}"
      ],
      "outputs": [],
      "metadata": {
        "cellView": "both",
        "id": "feiXojVXAbI9"
      }
    },
    {
      "cell_type": "code",
      "execution_count": null,
      "source": [
        "IMAGE_SHAPE = (224, 224)\n",
        "\n",
        "classifier = tf.keras.Sequential([\n",
        "    hub.KerasLayer(classifier_url, input_shape=IMAGE_SHAPE+(3,))\n",
        "])"
      ],
      "outputs": [],
      "metadata": {
        "id": "y_6bGjoPtzau"
      }
    },
    {
      "cell_type": "markdown",
      "source": [
        "### Run it on a single image"
      ],
      "metadata": {
        "id": "pwZXaoV0uXp2"
      }
    },
    {
      "cell_type": "markdown",
      "source": [
        "Download a single image to try the model on."
      ],
      "metadata": {
        "id": "TQItP1i55-di"
      }
    },
    {
      "cell_type": "code",
      "execution_count": null,
      "source": [
        "import numpy as np\n",
        "import PIL.Image as Image\n",
        "\n",
        "grace_hopper = tf.keras.utils.get_file('image.jpg','https://storage.googleapis.com/download.tensorflow.org/example_images/grace_hopper.jpg')\n",
        "grace_hopper = Image.open(grace_hopper).resize(IMAGE_SHAPE)\n",
        "grace_hopper"
      ],
      "outputs": [],
      "metadata": {
        "id": "w5wDjXNjuXGD"
      }
    },
    {
      "cell_type": "code",
      "execution_count": null,
      "source": [
        "grace_hopper = np.array(grace_hopper)/255.0\n",
        "grace_hopper.shape"
      ],
      "outputs": [],
      "metadata": {
        "id": "BEmmBnGbLxPp"
      }
    },
    {
      "cell_type": "markdown",
      "source": [
        "Add a batch dimension, and pass the image to the model."
      ],
      "metadata": {
        "id": "0Ic8OEEo2b73"
      }
    },
    {
      "cell_type": "code",
      "execution_count": null,
      "source": [
        "result = classifier.predict(grace_hopper[np.newaxis, ...])\n",
        "result.shape"
      ],
      "outputs": [],
      "metadata": {
        "id": "EMquyn29v8q3"
      }
    },
    {
      "cell_type": "markdown",
      "source": [
        "The result is a 1001 element vector of logits, rating the probability of each class for the image.\n",
        "\n",
        "So the top class ID can be found with argmax:"
      ],
      "metadata": {
        "id": "NKzjqENF6jDF"
      }
    },
    {
      "cell_type": "code",
      "execution_count": null,
      "source": [
        "predicted_class = np.argmax(result[0], axis=-1)\n",
        "predicted_class"
      ],
      "outputs": [],
      "metadata": {
        "id": "rgXb44vt6goJ"
      }
    },
    {
      "cell_type": "markdown",
      "source": [
        "### Decode the predictions\n",
        "\n",
        "We have the predicted class ID,\n",
        "Fetch the `ImageNet` labels, and decode the predictions"
      ],
      "metadata": {
        "id": "YrxLMajMoxkf"
      }
    },
    {
      "cell_type": "code",
      "execution_count": null,
      "source": [
        "labels_path = tf.keras.utils.get_file('ImageNetLabels.txt','https://storage.googleapis.com/download.tensorflow.org/data/ImageNetLabels.txt')\n",
        "imagenet_labels = np.array(open(labels_path).read().splitlines())"
      ],
      "outputs": [],
      "metadata": {
        "id": "ij6SrDxcxzry"
      }
    },
    {
      "cell_type": "code",
      "execution_count": null,
      "source": [
        "plt.imshow(grace_hopper)\n",
        "plt.axis('off')\n",
        "predicted_class_name = imagenet_labels[predicted_class]\n",
        "_ = plt.title(\"Prediction: \" + predicted_class_name.title())"
      ],
      "outputs": [],
      "metadata": {
        "id": "uzziRK3Z2VQo"
      }
    },
    {
      "cell_type": "markdown",
      "source": [
        "## Simple transfer learning"
      ],
      "metadata": {
        "id": "amfzqn1Oo7Om"
      }
    },
    {
      "cell_type": "markdown",
      "source": [
        "Using TF Hub it is simple to retrain the top layer of the model to recognize the classes in our dataset."
      ],
      "metadata": {
        "id": "K-nIpVJ94xrw"
      }
    },
    {
      "cell_type": "markdown",
      "source": [
        "### Dataset\n",
        "\n",
        " For this example you will use the TensorFlow flowers dataset:"
      ],
      "metadata": {
        "id": "Z93vvAdGxDMD"
      }
    },
    {
      "cell_type": "code",
      "execution_count": null,
      "source": [
        "data_root = tf.keras.utils.get_file(\n",
        "  'flower_photos','https://storage.googleapis.com/download.tensorflow.org/example_images/flower_photos.tgz',\n",
        "   untar=True)"
      ],
      "outputs": [],
      "metadata": {
        "id": "DrIUV3V0xDL_"
      }
    },
    {
      "cell_type": "markdown",
      "source": [
        "The simplest way to load this data into our model is using `tf.keras.preprocessing.image.ImageDataGenerator`,\n",
        "\n",
        "All of TensorFlow Hub's image modules expect float inputs in the `[0, 1]` range. Use the `ImageDataGenerator`'s `rescale` parameter to achieve this.\n",
        "\n",
        "The image size will be handled later."
      ],
      "metadata": {
        "id": "jFHdp18ccah7"
      }
    },
    {
      "cell_type": "code",
      "execution_count": null,
      "source": [
        "image_generator = tf.keras.preprocessing.image.ImageDataGenerator(rescale=1/255)\n",
        "image_data = image_generator.flow_from_directory(str(data_root), target_size=IMAGE_SHAPE)"
      ],
      "outputs": [],
      "metadata": {
        "id": "2PwQ_wYDcii9"
      }
    },
    {
      "cell_type": "markdown",
      "source": [
        "The resulting object is an iterator that returns `image_batch, label_batch` pairs."
      ],
      "metadata": {
        "id": "0p7iDOhIcqY2"
      }
    },
    {
      "cell_type": "code",
      "execution_count": null,
      "source": [
        "for image_batch, label_batch in image_data:\n",
        "  print(\"Image batch shape: \", image_batch.shape)\n",
        "  print(\"Label batch shape: \", label_batch.shape)\n",
        "  break"
      ],
      "outputs": [],
      "metadata": {
        "id": "W4lDPkn2cpWZ"
      }
    },
    {
      "cell_type": "markdown",
      "source": [
        "### Run the classifier on a batch of images"
      ],
      "metadata": {
        "id": "0gTN7M_GxDLx"
      }
    },
    {
      "cell_type": "markdown",
      "source": [
        "Now run the classifier on the image batch."
      ],
      "metadata": {
        "id": "O3fvrZR8xDLv"
      }
    },
    {
      "cell_type": "code",
      "execution_count": null,
      "source": [
        "result_batch = classifier.predict(image_batch)\n",
        "result_batch.shape"
      ],
      "outputs": [],
      "metadata": {
        "id": "nbyg6tcyxDLh"
      }
    },
    {
      "cell_type": "code",
      "execution_count": null,
      "source": [
        "predicted_class_names = imagenet_labels[np.argmax(result_batch, axis=-1)]\n",
        "predicted_class_names"
      ],
      "outputs": [],
      "metadata": {
        "id": "Kv7ZwuR4xDLc"
      }
    },
    {
      "cell_type": "markdown",
      "source": [
        "Now check how these predictions line up with the images:"
      ],
      "metadata": {
        "id": "QmvSWg9nxDLa"
      }
    },
    {
      "cell_type": "code",
      "execution_count": null,
      "source": [
        "plt.figure(figsize=(10,9))\n",
        "plt.subplots_adjust(hspace=0.5)\n",
        "for n in range(30):\n",
        "  plt.subplot(6,5,n+1)\n",
        "  plt.imshow(image_batch[n])\n",
        "  plt.title(predicted_class_names[n])\n",
        "  plt.axis('off')\n",
        "_ = plt.suptitle(\"ImageNet predictions\")"
      ],
      "outputs": [],
      "metadata": {
        "id": "IXTB22SpxDLP"
      }
    },
    {
      "cell_type": "markdown",
      "source": [
        "See the `LICENSE.txt` file for image attributions.\n",
        "\n",
        "The results are far from perfect, but reasonable considering that these are not the classes the model was trained for (except \"daisy\")."
      ],
      "metadata": {
        "id": "FUa3YkvhxDLM"
      }
    },
    {
      "cell_type": "markdown",
      "source": [
        "### Download the headless model\n",
        "\n",
        "TensorFlow Hub also distributes models without the top classification layer. These can be used to easily do transfer learning.\n",
        "\n",
        "The URL of any [TF2-compatible image feature vector module](https://tfhub.dev/s?module-type=image-feature-vector&q=tf2) from tfhub.dev will work here."
      ],
      "metadata": {
        "id": "JzV457OXreQP"
      }
    },
    {
      "cell_type": "code",
      "execution_count": null,
      "source": [
        "feature_extractor_url = \"https://tfhub.dev/google/tf2-preview/mobilenet_v2/feature_vector/2\" #@param {type:\"string\"}"
      ],
      "outputs": [],
      "metadata": {
        "cellView": "both",
        "id": "4bw8Jf94DSnP"
      }
    },
    {
      "cell_type": "markdown",
      "source": [
        "Create the module, and check the expected image size:"
      ],
      "metadata": {
        "id": "sgwmHugQF-PD"
      }
    },
    {
      "cell_type": "code",
      "execution_count": null,
      "source": [
        "feature_extractor_layer = hub.KerasLayer(feature_extractor_url,\n",
        "                                         input_shape=(224,224,3))"
      ],
      "outputs": [],
      "metadata": {
        "id": "5wB030nezBwI"
      }
    },
    {
      "cell_type": "markdown",
      "source": [
        "The feature extractor returns a 1280-element vector for each image."
      ],
      "metadata": {
        "id": "GUY-5Eyzuzlu"
      }
    },
    {
      "cell_type": "code",
      "execution_count": null,
      "source": [
        "feature_batch = feature_extractor_layer(image_batch)\n",
        "print(feature_batch.shape)"
      ],
      "outputs": [],
      "metadata": {
        "id": "Of7i-35F09ls"
      }
    },
    {
      "cell_type": "markdown",
      "source": [
        "Freeze the variables in the feature extractor layer, so that the training only modifies the new classifier layer."
      ],
      "metadata": {
        "id": "CtFmF7A5E4tk"
      }
    },
    {
      "cell_type": "code",
      "execution_count": null,
      "source": [
        "feature_extractor_layer.trainable = False"
      ],
      "outputs": [],
      "metadata": {
        "id": "Jg5ar6rcE4H-"
      }
    },
    {
      "cell_type": "markdown",
      "source": [
        "### Attach a classification head\n",
        "\n",
        "Now wrap the hub layer in a `tf.keras.Sequential` model, and add a new classification layer."
      ],
      "metadata": {
        "id": "RPVeouTksO9q"
      }
    },
    {
      "cell_type": "code",
      "execution_count": null,
      "source": [
        "model = tf.keras.Sequential([\n",
        "  feature_extractor_layer,\n",
        "  layers.Dense(image_data.num_classes, activation='softmax')\n",
        "])\n",
        "\n",
        "model.summary()"
      ],
      "outputs": [],
      "metadata": {
        "id": "mGcY27fY1q3Q"
      }
    },
    {
      "cell_type": "code",
      "execution_count": null,
      "source": [
        "predictions = model(image_batch)"
      ],
      "outputs": [],
      "metadata": {
        "id": "G9VkAz00HOJx"
      }
    },
    {
      "cell_type": "code",
      "execution_count": null,
      "source": [
        "predictions.shape"
      ],
      "outputs": [],
      "metadata": {
        "id": "sB7sVGJ23vrY"
      }
    },
    {
      "cell_type": "markdown",
      "source": [
        "### Train the model\n",
        "\n",
        "Use compile to configure the training process:"
      ],
      "metadata": {
        "id": "OHbXQqIquFxQ"
      }
    },
    {
      "cell_type": "code",
      "execution_count": null,
      "source": [
        "model.compile(\n",
        "  optimizer=tf.keras.optimizers.Adam(),\n",
        "  loss='categorical_crossentropy',\n",
        "  metrics=['acc'])"
      ],
      "outputs": [],
      "metadata": {
        "id": "3n0Wb9ylKd8R"
      }
    },
    {
      "cell_type": "markdown",
      "source": [
        "Now use the `.fit` method to train the model.\n",
        "\n",
        "To keep this example short train just 2 epochs. To visualize the training progress, use a custom callback to log the loss and accuracy of each batch individually, instead of the epoch average."
      ],
      "metadata": {
        "id": "58-BLV7dupJA"
      }
    },
    {
      "cell_type": "code",
      "execution_count": null,
      "source": [
        "class CollectBatchStats(tf.keras.callbacks.Callback):\n",
        "  def __init__(self):\n",
        "    self.batch_losses = []\n",
        "    self.batch_acc = []\n",
        "\n",
        "  def on_train_batch_end(self, batch, logs=None):\n",
        "    self.batch_losses.append(logs['loss'])\n",
        "    self.batch_acc.append(logs['acc'])\n",
        "    self.model.reset_metrics()"
      ],
      "outputs": [],
      "metadata": {
        "id": "jZ54Gubac4Lu"
      }
    },
    {
      "cell_type": "code",
      "execution_count": null,
      "source": [
        "steps_per_epoch = np.ceil(image_data.samples/image_data.batch_size)\n",
        "\n",
        "batch_stats_callback = CollectBatchStats()\n",
        "\n",
        "history = model.fit(image_data, epochs=2,\n",
        "                    steps_per_epoch=steps_per_epoch,\n",
        "                    callbacks = [batch_stats_callback])"
      ],
      "outputs": [],
      "metadata": {
        "id": "EyMDJxt2HdHr"
      }
    },
    {
      "cell_type": "markdown",
      "source": [
        "Now after, even just a few training iterations, we can already see that the model is making progress on the task."
      ],
      "metadata": {
        "id": "Kd0N272B9Q0b"
      }
    },
    {
      "cell_type": "code",
      "execution_count": null,
      "source": [
        "plt.figure()\n",
        "plt.ylabel(\"Loss\")\n",
        "plt.xlabel(\"Training Steps\")\n",
        "plt.ylim([0,2])\n",
        "plt.plot(batch_stats_callback.batch_losses)"
      ],
      "outputs": [],
      "metadata": {
        "id": "A5RfS1QIIP-P"
      }
    },
    {
      "cell_type": "code",
      "execution_count": null,
      "source": [
        "plt.figure()\n",
        "plt.ylabel(\"Accuracy\")\n",
        "plt.xlabel(\"Training Steps\")\n",
        "plt.ylim([0,1])\n",
        "plt.plot(batch_stats_callback.batch_acc)"
      ],
      "outputs": [],
      "metadata": {
        "id": "3uvX11avTiDg"
      }
    },
    {
      "cell_type": "markdown",
      "source": [
        "### Check the predictions\n",
        "\n",
        "To redo the plot from before, first get the ordered list of class names:"
      ],
      "metadata": {
        "id": "kb__ZN8uFn-D"
      }
    },
    {
      "cell_type": "code",
      "execution_count": null,
      "source": [
        "class_names = sorted(image_data.class_indices.items(), key=lambda pair:pair[1])\n",
        "class_names = np.array([key.title() for key, value in class_names])\n",
        "class_names"
      ],
      "outputs": [],
      "metadata": {
        "id": "JGbEf5l1I4jz"
      }
    },
    {
      "cell_type": "markdown",
      "source": [
        "Run the image batch through the model and convert the indices to class names."
      ],
      "metadata": {
        "id": "4Olg6MsNGJTL"
      }
    },
    {
      "cell_type": "code",
      "execution_count": null,
      "source": [
        "predicted_batch = model.predict(image_batch)\n",
        "predicted_id = np.argmax(predicted_batch, axis=-1)\n",
        "predicted_label_batch = class_names[predicted_id]"
      ],
      "outputs": [],
      "metadata": {
        "id": "fCLVCpEjJ_VP"
      }
    },
    {
      "cell_type": "markdown",
      "source": [
        "Plot the result"
      ],
      "metadata": {
        "id": "CkGbZxl9GZs-"
      }
    },
    {
      "cell_type": "code",
      "execution_count": null,
      "source": [
        "label_id = np.argmax(label_batch, axis=-1)"
      ],
      "outputs": [],
      "metadata": {
        "id": "rpFQR1MPMtT1"
      }
    },
    {
      "cell_type": "code",
      "execution_count": null,
      "source": [
        "plt.figure(figsize=(10,9))\n",
        "plt.subplots_adjust(hspace=0.5)\n",
        "for n in range(30):\n",
        "  plt.subplot(6,5,n+1)\n",
        "  plt.imshow(image_batch[n])\n",
        "  color = \"green\" if predicted_id[n] == label_id[n] else \"red\"\n",
        "  plt.title(predicted_label_batch[n].title(), color=color)\n",
        "  plt.axis('off')\n",
        "_ = plt.suptitle(\"Model predictions (green: correct, red: incorrect)\")"
      ],
      "outputs": [],
      "metadata": {
        "id": "wC_AYRJU9NQe"
      }
    },
    {
      "cell_type": "markdown",
      "source": [
        "## Export your model\n",
        "\n",
        "Now that you've trained the model, export it as a saved model:"
      ],
      "metadata": {
        "id": "uRcJnAABr22x"
      }
    },
    {
      "cell_type": "code",
      "execution_count": null,
      "source": [
        "import time\n",
        "t = time.time()\n",
        "\n",
        "export_path = \"/tmp/saved_models/{}\".format(int(t))\n",
        "tf.keras.experimental.export_saved_model(model, export_path)\n",
        "\n",
        "export_path"
      ],
      "outputs": [],
      "metadata": {
        "id": "PLcqg-RmsLno"
      }
    },
    {
      "cell_type": "markdown",
      "source": [
        "Now confirm that we can reload it, and it still gives the same results:"
      ],
      "metadata": {
        "id": "AhQ9liIUsPsi"
      }
    },
    {
      "cell_type": "code",
      "execution_count": null,
      "source": [
        "reloaded = tf.keras.experimental.load_from_saved_model(export_path, custom_objects={'KerasLayer':hub.KerasLayer})"
      ],
      "outputs": [],
      "metadata": {
        "id": "7nI5fvkAQvbS"
      }
    },
    {
      "cell_type": "code",
      "execution_count": null,
      "source": [
        "result_batch = model.predict(image_batch)\n",
        "reloaded_result_batch = reloaded.predict(image_batch)"
      ],
      "outputs": [],
      "metadata": {
        "id": "jor83-LqI8xW"
      }
    },
    {
      "cell_type": "code",
      "execution_count": null,
      "source": [
        "abs(reloaded_result_batch - result_batch).max()"
      ],
      "outputs": [],
      "metadata": {
        "id": "dnZO14taYPH6"
      }
    },
    {
      "cell_type": "markdown",
      "source": [
        "This saved model can be loaded for inference later, or converted to [TFLite](https://www.tensorflow.org/lite/convert/) or [TFjs](https://github.com/tensorflow/tfjs-converter).\n"
      ],
      "metadata": {
        "id": "TYZd4MNiV3Rc"
      }
    }
  ],
  "metadata": {
    "accelerator": "GPU",
    "colab": {
      "collapsed_sections": [
        "W_tvPdyfA-BL"
      ],
      "name": "hub_with_keras.ipynb",
      "toc_visible": true
    },
    "kernelspec": {
      "display_name": "Python 3",
      "name": "python3"
    }
  },
  "nbformat": 4,
  "nbformat_minor": 2
}